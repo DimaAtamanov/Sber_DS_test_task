{
 "cells": [
  {
   "cell_type": "markdown",
   "metadata": {},
   "source": [
    "## Секция python. Генератор чисел Фибоначчи"
   ]
  },
  {
   "cell_type": "code",
   "execution_count": 1,
   "metadata": {},
   "outputs": [],
   "source": [
    "from typing import Iterator\n",
    "\n",
    "\n",
    "def fibonacci_generator(n: int) -> Iterator[int] | None:\n",
    "    \"\"\"Return an object that produces n first numbers of Fibonacci sequence\n",
    "\n",
    "    Args:\n",
    "        n (int): amount of numbers\n",
    "\n",
    "    Raises:\n",
    "        TypeError: n must be 'int'\n",
    "        ValueError: n < 0, must be >= 0\n",
    "\n",
    "    Returns:\n",
    "        Iterator[int] or None\n",
    "\n",
    "    \"\"\"\n",
    "    # Отработка некорректных случаев использования и нулевого значения\n",
    "    if not isinstance(n, int):\n",
    "        raise TypeError(f\"n must be 'int' not '{n.__class__.__name__}'\")\n",
    "    elif n < 0:\n",
    "        raise ValueError(\"n < 0, must be >= 0\")\n",
    "    elif n == 0:\n",
    "        return None\n",
    "\n",
    "    current_number = 0  # текущий член последовательности\n",
    "    tmp_number = 0  # предыдущий член последовательности\n",
    "    count = 0  # счетчик\n",
    "\n",
    "    while count < n:\n",
    "        yield current_number\n",
    "\n",
    "        # Для генерации первых двух членов последовательности (0 и 1)\n",
    "        if current_number < 1:\n",
    "            current_number += 1\n",
    "\n",
    "        # Для остальных членов полседовательности\n",
    "        else:\n",
    "            buffer = tmp_number\n",
    "            tmp_number = current_number\n",
    "            current_number += buffer\n",
    "        count += 1"
   ]
  },
  {
   "cell_type": "code",
   "execution_count": 2,
   "metadata": {},
   "outputs": [
    {
     "name": "stdout",
     "output_type": "stream",
     "text": [
      "input: n = a ==> output: n must be 'int' not 'str'\n",
      "input: n = -1 ==> output: n < 0, must be >= 0\n",
      "input: n = 0 ==> output: input: n = 10 ==> output: 0 1 1 2 3 5 8 13 21 34 "
     ]
    }
   ],
   "source": [
    "# Примеры использования\n",
    "\n",
    "for n in [\"a\", -1, 0, 10]:\n",
    "    print(f\"input: n = {n} ==> output:\", end=\" \")\n",
    "    try:\n",
    "        for num in fibonacci_generator(n):\n",
    "            print(num, end=\" \")\n",
    "    except TypeError:\n",
    "        print(f\"n must be 'int' not '{n.__class__.__name__}'\")\n",
    "    except ValueError:\n",
    "        print(\"n < 0, must be >= 0\")"
   ]
  },
  {
   "cell_type": "markdown",
   "metadata": {},
   "source": [
    "## Секция SQL"
   ]
  },
  {
   "cell_type": "markdown",
   "metadata": {},
   "source": [
    "### 1. Вывести отдел с наибольшим числом сотрудников"
   ]
  },
  {
   "cell_type": "code",
   "execution_count": null,
   "metadata": {
    "vscode": {
     "languageId": "sql"
    }
   },
   "outputs": [],
   "source": [
    "-- Вариант запроса с использованием внутреннего соединения. Если требуется количество сотрудников\n",
    "\n",
    "SELECT d.id, d.name, count(*) AS amount_of_personal\n",
    "FROM department AS d\n",
    "JOIN personal AS p ON d.id = p.id_dep\n",
    "GROUP BY d.id, d.name\n",
    "ORDER BY amount_of_personal DESC\n",
    "LIMIT 1"
   ]
  },
  {
   "cell_type": "code",
   "execution_count": null,
   "metadata": {
    "vscode": {
     "languageId": "sql"
    }
   },
   "outputs": [],
   "source": [
    "-- Вариант запроса с использованием подзапроса. Если не требуется количество сотрудников\n",
    "\n",
    "SELECT id, name\n",
    "FROM department\n",
    "WHERE id = (\n",
    "\tSELECT id_dep\n",
    "\tFROM personal \n",
    "\tGROUP BY id_dep\n",
    "\tORDER BY count(*) DESC\n",
    "\tLIMIT 1\n",
    ")"
   ]
  },
  {
   "cell_type": "markdown",
   "metadata": {},
   "source": [
    "### 2. Вывести список сотрудников, получающих заработную плату выше, чем у руководителя"
   ]
  },
  {
   "cell_type": "code",
   "execution_count": null,
   "metadata": {
    "vscode": {
     "languageId": "sql"
    }
   },
   "outputs": [],
   "source": [
    "-- Запрос удобно реализовать с использованием внутреннего соединения, поставив в соответствие каждому работнику его руководителя\n",
    "-- Затем отбираются те строки, в которых зарплата сотрудника выше, чем у руководителя\n",
    "\n",
    "SELECT p1.id_pers, p1.name\n",
    "FROM personal AS p1\n",
    "JOIN personal AS p2 ON p1.id_head = p2.id_pers\n",
    "WHERE p1.sal > p2.sal"
   ]
  },
  {
   "cell_type": "markdown",
   "metadata": {},
   "source": [
    "## Секция ML. Определение ОКВЭД фирмы"
   ]
  },
  {
   "cell_type": "markdown",
   "metadata": {},
   "source": [
    "### 1. Обзор данных"
   ]
  },
  {
   "cell_type": "code",
   "execution_count": 3,
   "metadata": {},
   "outputs": [],
   "source": [
    "# Импорт необходимых библиотек, классов и функций\n",
    "\n",
    "import pandas as pd\n",
    "import numpy as np\n",
    "from matplotlib import pyplot as plt\n",
    "import seaborn as sns\n",
    "\n",
    "from scipy.stats import iqr"
   ]
  },
  {
   "cell_type": "code",
   "execution_count": 4,
   "metadata": {},
   "outputs": [],
   "source": [
    "# Загрузка данных в DataFrame\n",
    "\n",
    "inn_info_public_df = pd.read_csv(\"TestCase-Industry/inn_info_public.csv\")\n",
    "pays_df = pd.read_csv(\"TestCase-Industry/pays.csv\")"
   ]
  },
  {
   "cell_type": "code",
   "execution_count": 5,
   "metadata": {},
   "outputs": [
    {
     "name": "stdout",
     "output_type": "stream",
     "text": [
      "<class 'pandas.core.frame.DataFrame'>\n",
      "RangeIndex: 240069 entries, 0 to 240068\n",
      "Data columns (total 4 columns):\n",
      " #   Column     Non-Null Count   Dtype\n",
      "---  ------     --------------   -----\n",
      " 0   hash_inn   240069 non-null  int64\n",
      " 1   okved2     240069 non-null  int64\n",
      " 2   region     240069 non-null  int64\n",
      " 3   is_public  240069 non-null  bool \n",
      "dtypes: bool(1), int64(3)\n",
      "memory usage: 5.7 MB\n"
     ]
    }
   ],
   "source": [
    "inn_info_public_df.info()"
   ]
  },
  {
   "cell_type": "code",
   "execution_count": 6,
   "metadata": {},
   "outputs": [
    {
     "name": "stdout",
     "output_type": "stream",
     "text": [
      "<class 'pandas.core.frame.DataFrame'>\n",
      "RangeIndex: 5430150 entries, 0 to 5430149\n",
      "Data columns (total 5 columns):\n",
      " #   Column       Non-Null Count    Dtype  \n",
      "---  ------       --------------    -----  \n",
      " 0   hash_inn_kt  5430150 non-null  int64  \n",
      " 1   hash_inn_dt  5430150 non-null  int64  \n",
      " 2   week         5430150 non-null  int64  \n",
      " 3   count        5430150 non-null  int64  \n",
      " 4   sum          5429025 non-null  float64\n",
      "dtypes: float64(1), int64(4)\n",
      "memory usage: 207.1 MB\n"
     ]
    }
   ],
   "source": [
    "pays_df.info(show_counts=True)"
   ]
  },
  {
   "cell_type": "code",
   "execution_count": 7,
   "metadata": {},
   "outputs": [
    {
     "data": {
      "text/html": [
       "<div>\n",
       "<style scoped>\n",
       "    .dataframe tbody tr th:only-of-type {\n",
       "        vertical-align: middle;\n",
       "    }\n",
       "\n",
       "    .dataframe tbody tr th {\n",
       "        vertical-align: top;\n",
       "    }\n",
       "\n",
       "    .dataframe thead th {\n",
       "        text-align: right;\n",
       "    }\n",
       "</style>\n",
       "<table border=\"1\" class=\"dataframe\">\n",
       "  <thead>\n",
       "    <tr style=\"text-align: right;\">\n",
       "      <th></th>\n",
       "      <th>hash_inn</th>\n",
       "      <th>okved2</th>\n",
       "      <th>region</th>\n",
       "    </tr>\n",
       "  </thead>\n",
       "  <tbody>\n",
       "    <tr>\n",
       "      <th>count</th>\n",
       "      <td>240069.000000</td>\n",
       "      <td>240069.000000</td>\n",
       "      <td>240069.000000</td>\n",
       "    </tr>\n",
       "    <tr>\n",
       "      <th>mean</th>\n",
       "      <td>130236.418734</td>\n",
       "      <td>18.771803</td>\n",
       "      <td>58.938343</td>\n",
       "    </tr>\n",
       "    <tr>\n",
       "      <th>std</th>\n",
       "      <td>75201.512046</td>\n",
       "      <td>22.078592</td>\n",
       "      <td>26.935958</td>\n",
       "    </tr>\n",
       "    <tr>\n",
       "      <th>min</th>\n",
       "      <td>0.000000</td>\n",
       "      <td>-1.000000</td>\n",
       "      <td>0.000000</td>\n",
       "    </tr>\n",
       "    <tr>\n",
       "      <th>25%</th>\n",
       "      <td>65170.000000</td>\n",
       "      <td>-1.000000</td>\n",
       "      <td>37.000000</td>\n",
       "    </tr>\n",
       "    <tr>\n",
       "      <th>50%</th>\n",
       "      <td>130169.000000</td>\n",
       "      <td>12.000000</td>\n",
       "      <td>60.000000</td>\n",
       "    </tr>\n",
       "    <tr>\n",
       "      <th>75%</th>\n",
       "      <td>195380.000000</td>\n",
       "      <td>34.000000</td>\n",
       "      <td>84.000000</td>\n",
       "    </tr>\n",
       "    <tr>\n",
       "      <th>max</th>\n",
       "      <td>260515.000000</td>\n",
       "      <td>79.000000</td>\n",
       "      <td>90.000000</td>\n",
       "    </tr>\n",
       "  </tbody>\n",
       "</table>\n",
       "</div>"
      ],
      "text/plain": [
       "            hash_inn         okved2         region\n",
       "count  240069.000000  240069.000000  240069.000000\n",
       "mean   130236.418734      18.771803      58.938343\n",
       "std     75201.512046      22.078592      26.935958\n",
       "min         0.000000      -1.000000       0.000000\n",
       "25%     65170.000000      -1.000000      37.000000\n",
       "50%    130169.000000      12.000000      60.000000\n",
       "75%    195380.000000      34.000000      84.000000\n",
       "max    260515.000000      79.000000      90.000000"
      ]
     },
     "execution_count": 7,
     "metadata": {},
     "output_type": "execute_result"
    }
   ],
   "source": [
    "inn_info_public_df.describe()"
   ]
  },
  {
   "cell_type": "code",
   "execution_count": 8,
   "metadata": {},
   "outputs": [
    {
     "data": {
      "text/html": [
       "<div>\n",
       "<style scoped>\n",
       "    .dataframe tbody tr th:only-of-type {\n",
       "        vertical-align: middle;\n",
       "    }\n",
       "\n",
       "    .dataframe tbody tr th {\n",
       "        vertical-align: top;\n",
       "    }\n",
       "\n",
       "    .dataframe thead th {\n",
       "        text-align: right;\n",
       "    }\n",
       "</style>\n",
       "<table border=\"1\" class=\"dataframe\">\n",
       "  <thead>\n",
       "    <tr style=\"text-align: right;\">\n",
       "      <th></th>\n",
       "      <th>hash_inn_kt</th>\n",
       "      <th>hash_inn_dt</th>\n",
       "      <th>week</th>\n",
       "      <th>count</th>\n",
       "      <th>sum</th>\n",
       "    </tr>\n",
       "  </thead>\n",
       "  <tbody>\n",
       "    <tr>\n",
       "      <th>count</th>\n",
       "      <td>5.430150e+06</td>\n",
       "      <td>5.430150e+06</td>\n",
       "      <td>5.430150e+06</td>\n",
       "      <td>5.430150e+06</td>\n",
       "      <td>5.429025e+06</td>\n",
       "    </tr>\n",
       "    <tr>\n",
       "      <th>mean</th>\n",
       "      <td>1.288775e+05</td>\n",
       "      <td>1.305203e+05</td>\n",
       "      <td>1.161926e+01</td>\n",
       "      <td>2.919462e+00</td>\n",
       "      <td>3.939404e+02</td>\n",
       "    </tr>\n",
       "    <tr>\n",
       "      <th>std</th>\n",
       "      <td>7.569651e+04</td>\n",
       "      <td>7.564641e+04</td>\n",
       "      <td>6.332949e+00</td>\n",
       "      <td>5.050308e+00</td>\n",
       "      <td>7.259421e+03</td>\n",
       "    </tr>\n",
       "    <tr>\n",
       "      <th>min</th>\n",
       "      <td>0.000000e+00</td>\n",
       "      <td>0.000000e+00</td>\n",
       "      <td>0.000000e+00</td>\n",
       "      <td>0.000000e+00</td>\n",
       "      <td>-4.000000e-01</td>\n",
       "    </tr>\n",
       "    <tr>\n",
       "      <th>25%</th>\n",
       "      <td>6.292900e+04</td>\n",
       "      <td>6.476100e+04</td>\n",
       "      <td>6.000000e+00</td>\n",
       "      <td>1.000000e+00</td>\n",
       "      <td>3.280000e+00</td>\n",
       "    </tr>\n",
       "    <tr>\n",
       "      <th>50%</th>\n",
       "      <td>1.273810e+05</td>\n",
       "      <td>1.295880e+05</td>\n",
       "      <td>1.200000e+01</td>\n",
       "      <td>2.000000e+00</td>\n",
       "      <td>1.456800e+01</td>\n",
       "    </tr>\n",
       "    <tr>\n",
       "      <th>75%</th>\n",
       "      <td>1.943850e+05</td>\n",
       "      <td>1.966060e+05</td>\n",
       "      <td>1.700000e+01</td>\n",
       "      <td>3.000000e+00</td>\n",
       "      <td>6.920000e+01</td>\n",
       "    </tr>\n",
       "    <tr>\n",
       "      <th>max</th>\n",
       "      <td>2.605110e+05</td>\n",
       "      <td>2.605150e+05</td>\n",
       "      <td>2.300000e+01</td>\n",
       "      <td>2.530000e+03</td>\n",
       "      <td>3.966400e+06</td>\n",
       "    </tr>\n",
       "  </tbody>\n",
       "</table>\n",
       "</div>"
      ],
      "text/plain": [
       "        hash_inn_kt   hash_inn_dt          week         count           sum\n",
       "count  5.430150e+06  5.430150e+06  5.430150e+06  5.430150e+06  5.429025e+06\n",
       "mean   1.288775e+05  1.305203e+05  1.161926e+01  2.919462e+00  3.939404e+02\n",
       "std    7.569651e+04  7.564641e+04  6.332949e+00  5.050308e+00  7.259421e+03\n",
       "min    0.000000e+00  0.000000e+00  0.000000e+00  0.000000e+00 -4.000000e-01\n",
       "25%    6.292900e+04  6.476100e+04  6.000000e+00  1.000000e+00  3.280000e+00\n",
       "50%    1.273810e+05  1.295880e+05  1.200000e+01  2.000000e+00  1.456800e+01\n",
       "75%    1.943850e+05  1.966060e+05  1.700000e+01  3.000000e+00  6.920000e+01\n",
       "max    2.605110e+05  2.605150e+05  2.300000e+01  2.530000e+03  3.966400e+06"
      ]
     },
     "execution_count": 8,
     "metadata": {},
     "output_type": "execute_result"
    }
   ],
   "source": [
    "pays_df.describe()"
   ]
  },
  {
   "cell_type": "code",
   "execution_count": 9,
   "metadata": {},
   "outputs": [],
   "source": [
    "# Удаление пропусков в pays_df\n",
    "pays_df = pays_df.dropna()\n",
    "\n",
    "# В данном случае сумма платежей считается по абсолютным знаечниям, следовательно не может быть отрицательной\n",
    "\n",
    "pays_df = pays_df.loc[pays_df[\"sum\"] >= 0]"
   ]
  },
  {
   "cell_type": "code",
   "execution_count": 10,
   "metadata": {},
   "outputs": [
    {
     "data": {
      "text/html": [
       "<div>\n",
       "<style scoped>\n",
       "    .dataframe tbody tr th:only-of-type {\n",
       "        vertical-align: middle;\n",
       "    }\n",
       "\n",
       "    .dataframe tbody tr th {\n",
       "        vertical-align: top;\n",
       "    }\n",
       "\n",
       "    .dataframe thead th {\n",
       "        text-align: right;\n",
       "    }\n",
       "</style>\n",
       "<table border=\"1\" class=\"dataframe\">\n",
       "  <thead>\n",
       "    <tr style=\"text-align: right;\">\n",
       "      <th></th>\n",
       "      <th>hash_inn</th>\n",
       "      <th>okved2</th>\n",
       "      <th>region</th>\n",
       "      <th>is_public</th>\n",
       "    </tr>\n",
       "  </thead>\n",
       "  <tbody>\n",
       "    <tr>\n",
       "      <th>0</th>\n",
       "      <td>61058</td>\n",
       "      <td>34</td>\n",
       "      <td>86</td>\n",
       "      <td>True</td>\n",
       "    </tr>\n",
       "    <tr>\n",
       "      <th>1</th>\n",
       "      <td>8311</td>\n",
       "      <td>18</td>\n",
       "      <td>86</td>\n",
       "      <td>True</td>\n",
       "    </tr>\n",
       "    <tr>\n",
       "      <th>2</th>\n",
       "      <td>130273</td>\n",
       "      <td>-1</td>\n",
       "      <td>86</td>\n",
       "      <td>False</td>\n",
       "    </tr>\n",
       "    <tr>\n",
       "      <th>3</th>\n",
       "      <td>64081</td>\n",
       "      <td>43</td>\n",
       "      <td>86</td>\n",
       "      <td>True</td>\n",
       "    </tr>\n",
       "    <tr>\n",
       "      <th>4</th>\n",
       "      <td>218005</td>\n",
       "      <td>12</td>\n",
       "      <td>86</td>\n",
       "      <td>True</td>\n",
       "    </tr>\n",
       "    <tr>\n",
       "      <th>...</th>\n",
       "      <td>...</td>\n",
       "      <td>...</td>\n",
       "      <td>...</td>\n",
       "      <td>...</td>\n",
       "    </tr>\n",
       "    <tr>\n",
       "      <th>240064</th>\n",
       "      <td>139170</td>\n",
       "      <td>4</td>\n",
       "      <td>12</td>\n",
       "      <td>True</td>\n",
       "    </tr>\n",
       "    <tr>\n",
       "      <th>240065</th>\n",
       "      <td>13553</td>\n",
       "      <td>12</td>\n",
       "      <td>12</td>\n",
       "      <td>True</td>\n",
       "    </tr>\n",
       "    <tr>\n",
       "      <th>240066</th>\n",
       "      <td>230402</td>\n",
       "      <td>12</td>\n",
       "      <td>12</td>\n",
       "      <td>True</td>\n",
       "    </tr>\n",
       "    <tr>\n",
       "      <th>240067</th>\n",
       "      <td>170104</td>\n",
       "      <td>63</td>\n",
       "      <td>12</td>\n",
       "      <td>True</td>\n",
       "    </tr>\n",
       "    <tr>\n",
       "      <th>240068</th>\n",
       "      <td>162752</td>\n",
       "      <td>-1</td>\n",
       "      <td>12</td>\n",
       "      <td>False</td>\n",
       "    </tr>\n",
       "  </tbody>\n",
       "</table>\n",
       "<p>240069 rows × 4 columns</p>\n",
       "</div>"
      ],
      "text/plain": [
       "        hash_inn  okved2  region  is_public\n",
       "0          61058      34      86       True\n",
       "1           8311      18      86       True\n",
       "2         130273      -1      86      False\n",
       "3          64081      43      86       True\n",
       "4         218005      12      86       True\n",
       "...          ...     ...     ...        ...\n",
       "240064    139170       4      12       True\n",
       "240065     13553      12      12       True\n",
       "240066    230402      12      12       True\n",
       "240067    170104      63      12       True\n",
       "240068    162752      -1      12      False\n",
       "\n",
       "[240069 rows x 4 columns]"
      ]
     },
     "execution_count": 10,
     "metadata": {},
     "output_type": "execute_result"
    }
   ],
   "source": [
    "inn_info_public_df"
   ]
  },
  {
   "cell_type": "code",
   "execution_count": 11,
   "metadata": {},
   "outputs": [
    {
     "data": {
      "text/html": [
       "<div>\n",
       "<style scoped>\n",
       "    .dataframe tbody tr th:only-of-type {\n",
       "        vertical-align: middle;\n",
       "    }\n",
       "\n",
       "    .dataframe tbody tr th {\n",
       "        vertical-align: top;\n",
       "    }\n",
       "\n",
       "    .dataframe thead th {\n",
       "        text-align: right;\n",
       "    }\n",
       "</style>\n",
       "<table border=\"1\" class=\"dataframe\">\n",
       "  <thead>\n",
       "    <tr style=\"text-align: right;\">\n",
       "      <th></th>\n",
       "      <th>hash_inn_kt</th>\n",
       "      <th>hash_inn_dt</th>\n",
       "      <th>week</th>\n",
       "      <th>count</th>\n",
       "      <th>sum</th>\n",
       "    </tr>\n",
       "  </thead>\n",
       "  <tbody>\n",
       "    <tr>\n",
       "      <th>0</th>\n",
       "      <td>0</td>\n",
       "      <td>0</td>\n",
       "      <td>1</td>\n",
       "      <td>4</td>\n",
       "      <td>38399.6</td>\n",
       "    </tr>\n",
       "    <tr>\n",
       "      <th>1</th>\n",
       "      <td>0</td>\n",
       "      <td>0</td>\n",
       "      <td>5</td>\n",
       "      <td>2</td>\n",
       "      <td>399.6</td>\n",
       "    </tr>\n",
       "    <tr>\n",
       "      <th>2</th>\n",
       "      <td>0</td>\n",
       "      <td>0</td>\n",
       "      <td>7</td>\n",
       "      <td>2</td>\n",
       "      <td>79.6</td>\n",
       "    </tr>\n",
       "    <tr>\n",
       "      <th>3</th>\n",
       "      <td>0</td>\n",
       "      <td>0</td>\n",
       "      <td>9</td>\n",
       "      <td>2</td>\n",
       "      <td>239.6</td>\n",
       "    </tr>\n",
       "    <tr>\n",
       "      <th>4</th>\n",
       "      <td>0</td>\n",
       "      <td>0</td>\n",
       "      <td>12</td>\n",
       "      <td>2</td>\n",
       "      <td>79.6</td>\n",
       "    </tr>\n",
       "    <tr>\n",
       "      <th>...</th>\n",
       "      <td>...</td>\n",
       "      <td>...</td>\n",
       "      <td>...</td>\n",
       "      <td>...</td>\n",
       "      <td>...</td>\n",
       "    </tr>\n",
       "    <tr>\n",
       "      <th>5430145</th>\n",
       "      <td>260511</td>\n",
       "      <td>77935</td>\n",
       "      <td>5</td>\n",
       "      <td>2</td>\n",
       "      <td>399.6</td>\n",
       "    </tr>\n",
       "    <tr>\n",
       "      <th>5430146</th>\n",
       "      <td>260511</td>\n",
       "      <td>77935</td>\n",
       "      <td>12</td>\n",
       "      <td>2</td>\n",
       "      <td>439.6</td>\n",
       "    </tr>\n",
       "    <tr>\n",
       "      <th>5430147</th>\n",
       "      <td>260511</td>\n",
       "      <td>77935</td>\n",
       "      <td>14</td>\n",
       "      <td>2</td>\n",
       "      <td>7.6</td>\n",
       "    </tr>\n",
       "    <tr>\n",
       "      <th>5430148</th>\n",
       "      <td>260511</td>\n",
       "      <td>77935</td>\n",
       "      <td>15</td>\n",
       "      <td>2</td>\n",
       "      <td>79.6</td>\n",
       "    </tr>\n",
       "    <tr>\n",
       "      <th>5430149</th>\n",
       "      <td>260511</td>\n",
       "      <td>260511</td>\n",
       "      <td>10</td>\n",
       "      <td>2</td>\n",
       "      <td>7.6</td>\n",
       "    </tr>\n",
       "  </tbody>\n",
       "</table>\n",
       "<p>5242214 rows × 5 columns</p>\n",
       "</div>"
      ],
      "text/plain": [
       "         hash_inn_kt  hash_inn_dt  week  count      sum\n",
       "0                  0            0     1      4  38399.6\n",
       "1                  0            0     5      2    399.6\n",
       "2                  0            0     7      2     79.6\n",
       "3                  0            0     9      2    239.6\n",
       "4                  0            0    12      2     79.6\n",
       "...              ...          ...   ...    ...      ...\n",
       "5430145       260511        77935     5      2    399.6\n",
       "5430146       260511        77935    12      2    439.6\n",
       "5430147       260511        77935    14      2      7.6\n",
       "5430148       260511        77935    15      2     79.6\n",
       "5430149       260511       260511    10      2      7.6\n",
       "\n",
       "[5242214 rows x 5 columns]"
      ]
     },
     "execution_count": 11,
     "metadata": {},
     "output_type": "execute_result"
    }
   ],
   "source": [
    "pays_df"
   ]
  },
  {
   "cell_type": "code",
   "execution_count": 12,
   "metadata": {},
   "outputs": [
    {
     "data": {
      "text/plain": [
       "80"
      ]
     },
     "execution_count": 12,
     "metadata": {},
     "output_type": "execute_result"
    }
   ],
   "source": [
    "# Количество классов (уникальных кодов ОКВЭД)\n",
    "inn_info_public_df[\"okved2\"].unique().__len__() - 1"
   ]
  },
  {
   "cell_type": "code",
   "execution_count": 13,
   "metadata": {},
   "outputs": [
    {
     "data": {
      "text/plain": [
       "78654"
      ]
     },
     "execution_count": 13,
     "metadata": {},
     "output_type": "execute_result"
    }
   ],
   "source": [
    "# Количество фирм, подлежащих классификации\n",
    "inn_info_public_df.loc[inn_info_public_df[\"okved2\"] == -1].__len__()"
   ]
  },
  {
   "cell_type": "code",
   "execution_count": 14,
   "metadata": {},
   "outputs": [
    {
     "data": {
      "text/plain": [
       "49556"
      ]
     },
     "execution_count": 14,
     "metadata": {},
     "output_type": "execute_result"
    }
   ],
   "source": [
    "# Количество фирм, подлежащих классификации, с информацией об отправленных платежах\n",
    "(\n",
    "    set(pays_df[\"hash_inn_kt\"])\n",
    "    & set(inn_info_public_df[\"hash_inn\"].loc[inn_info_public_df[\"okved2\"] == -1])\n",
    ").__len__()"
   ]
  },
  {
   "cell_type": "code",
   "execution_count": 15,
   "metadata": {},
   "outputs": [
    {
     "data": {
      "text/plain": [
       "61422"
      ]
     },
     "execution_count": 15,
     "metadata": {},
     "output_type": "execute_result"
    }
   ],
   "source": [
    "# Количество фирм, подлежащих классификации, с информацией о принятых платежах\n",
    "(\n",
    "    set(pays_df[\"hash_inn_dt\"])\n",
    "    & set(inn_info_public_df[\"hash_inn\"].loc[inn_info_public_df[\"okved2\"] == -1])\n",
    ").__len__()"
   ]
  },
  {
   "cell_type": "code",
   "execution_count": 16,
   "metadata": {},
   "outputs": [
    {
     "data": {
      "text/plain": [
       "32885"
      ]
     },
     "execution_count": 16,
     "metadata": {},
     "output_type": "execute_result"
    }
   ],
   "source": [
    "# Количество фирм, подлежащих классификации, одновременно с информацией об отправленных и о полученных платежах\n",
    "(\n",
    "    set(pays_df[\"hash_inn_dt\"])\n",
    "    & set(pays_df[\"hash_inn_kt\"])\n",
    "    & set(inn_info_public_df[\"hash_inn\"].loc[inn_info_public_df[\"okved2\"] == -1])\n",
    ").__len__()"
   ]
  },
  {
   "cell_type": "code",
   "execution_count": 17,
   "metadata": {},
   "outputs": [
    {
     "data": {
      "text/plain": [
       "161415"
      ]
     },
     "execution_count": 17,
     "metadata": {},
     "output_type": "execute_result"
    }
   ],
   "source": [
    "# Количество фирм, не подлежащих классификации\n",
    "inn_info_public_df.loc[inn_info_public_df[\"okved2\"] != -1].__len__()"
   ]
  },
  {
   "cell_type": "code",
   "execution_count": 18,
   "metadata": {},
   "outputs": [
    {
     "data": {
      "text/plain": [
       "okved2\n",
       "12    44918\n",
       "34    13654\n",
       "14    10179\n",
       "4      7617\n",
       "52     6986\n",
       "      ...  \n",
       "2        90\n",
       "36       84\n",
       "13       68\n",
       "73       64\n",
       "1        50\n",
       "Name: count, Length: 80, dtype: int64"
      ]
     },
     "execution_count": 18,
     "metadata": {},
     "output_type": "execute_result"
    }
   ],
   "source": [
    "# Стратификация фирм по классам\n",
    "inn_info_public_df.loc[inn_info_public_df[\"okved2\"] != -1][\"okved2\"].value_counts()"
   ]
  },
  {
   "cell_type": "code",
   "execution_count": 19,
   "metadata": {},
   "outputs": [
    {
     "data": {
      "text/plain": [
       "101376"
      ]
     },
     "execution_count": 19,
     "metadata": {},
     "output_type": "execute_result"
    }
   ],
   "source": [
    "# Количество фирм, не подлежащих классификации, с информацией об отправленных платежах\n",
    "(\n",
    "    set(pays_df[\"hash_inn_kt\"])\n",
    "    & set(inn_info_public_df[\"hash_inn\"].loc[inn_info_public_df[\"okved2\"] != -1])\n",
    ").__len__()"
   ]
  },
  {
   "cell_type": "code",
   "execution_count": 20,
   "metadata": {},
   "outputs": [
    {
     "data": {
      "text/plain": [
       "126184"
      ]
     },
     "execution_count": 20,
     "metadata": {},
     "output_type": "execute_result"
    }
   ],
   "source": [
    "# Количество фирм,не подлежащих классификации, с информацией о принятых платежах\n",
    "(\n",
    "    set(pays_df[\"hash_inn_dt\"])\n",
    "    & set(inn_info_public_df[\"hash_inn\"].loc[inn_info_public_df[\"okved2\"] != -1])\n",
    ").__len__()"
   ]
  },
  {
   "cell_type": "code",
   "execution_count": 21,
   "metadata": {},
   "outputs": [
    {
     "data": {
      "text/plain": [
       "67422"
      ]
     },
     "execution_count": 21,
     "metadata": {},
     "output_type": "execute_result"
    }
   ],
   "source": [
    "# Количество фирм, не подлежащих классификации, одновременно с информацией об отправленных и о полученных платежах\n",
    "set_inn_with_in_out_pays = (\n",
    "    set(pays_df[\"hash_inn_dt\"])\n",
    "    & set(pays_df[\"hash_inn_kt\"])\n",
    "    & set(inn_info_public_df[\"hash_inn\"].loc[inn_info_public_df[\"okved2\"] != -1])\n",
    ")\n",
    "len(set_inn_with_in_out_pays)"
   ]
  },
  {
   "cell_type": "code",
   "execution_count": 22,
   "metadata": {},
   "outputs": [
    {
     "data": {
      "text/plain": [
       "17199"
      ]
     },
     "execution_count": 22,
     "metadata": {},
     "output_type": "execute_result"
    }
   ],
   "source": [
    "# Количестов фирм, имеющих информацию о внутренних платежах\n",
    "pays_df.loc[pays_df[\"hash_inn_dt\"] == pays_df[\"hash_inn_kt\"]][\n",
    "    \"hash_inn_kt\"\n",
    "].unique().__len__()"
   ]
  },
  {
   "cell_type": "code",
   "execution_count": 23,
   "metadata": {},
   "outputs": [
    {
     "data": {
      "text/plain": [
       "80"
      ]
     },
     "execution_count": 23,
     "metadata": {},
     "output_type": "execute_result"
    }
   ],
   "source": [
    "# Количество классов (уникальных кодов ОКВЭД) среди фирм, не подлежащих классификации и имеющих информацию о входящих и исходящих платежах\n",
    "(\n",
    "    inn_info_public_df[\"okved2\"].loc[\n",
    "        inn_info_public_df[\"hash_inn\"].isin(set_inn_with_in_out_pays)\n",
    "    ]\n",
    ").nunique()"
   ]
  },
  {
   "cell_type": "code",
   "execution_count": 24,
   "metadata": {},
   "outputs": [
    {
     "data": {
      "text/plain": [
       "okved2\n",
       "12    18601\n",
       "14     5131\n",
       "34     4106\n",
       "4      3557\n",
       "52     3024\n",
       "      ...  \n",
       "36       28\n",
       "1        22\n",
       "73       21\n",
       "13       15\n",
       "66       10\n",
       "Name: count, Length: 80, dtype: int64"
      ]
     },
     "execution_count": 24,
     "metadata": {},
     "output_type": "execute_result"
    }
   ],
   "source": [
    "# Стратификация фирм по классам\n",
    "(\n",
    "    inn_info_public_df[\"okved2\"].loc[\n",
    "        inn_info_public_df[\"hash_inn\"].isin(set_inn_with_in_out_pays)\n",
    "    ]\n",
    ").value_counts()"
   ]
  },
  {
   "cell_type": "markdown",
   "metadata": {},
   "source": [
    "Исходя из подстчета фирм, о которых известна та или иная информация о платежах, можно сделать вывод, что подготовить обучающий датасет с информацией о платежах для всех фирм не представляется возможным. Следовательно, предсказать все значения неизвестных кодов также нет возможности. В данном случае возможны следующие варианты:\n",
    "\n",
    "1. Обучить модель только на наборе данных `inn_info_public_df` с полным набором фирм\n",
    "2. Пожертвовать полнотой данных в пользу информативности и собрать датасет для части фирм на основе информации из `inn_info_public_df` и `pays_df`\n",
    "\n",
    "Очевидно, первый вариант не подходит, так как в  `inn_info_public_df`, скорее всего, не содержится никакой значимой информации для решения поставленной задачи. \n",
    "\n",
    "Второй вариант выглядит более перспективным. При этом, есть возможность выбрать между тремя версиями, отличающимися количеством семплов: на основе входящих платежей, на основе исходящих платежей и на основе одновременно входящих и исходящих платежей. Несмотря на то, что последняя версия датасета сохранит в 1,5 - 2 раза меньше семплов, чем первые две, она выглядит предпочтительнее с точки зрения информативности. Следует также отметить, что не смотря на снижение числа семплов, датасет сохранить экземпляры для всех 80 классов, котоорые модель должна научиться предсказывать. \n",
    "\n",
    "Информацию о внутренних платежах использовать не целесообразно, в связи с отсутствием внутренних платежей у подавляющего большинства фирм."
   ]
  },
  {
   "cell_type": "markdown",
   "metadata": {},
   "source": [
    "#### Оценка выбросов"
   ]
  },
  {
   "cell_type": "markdown",
   "metadata": {},
   "source": [
    "Прежде чем собирать датасет, следует оценить выбросы в колонках **count** и **sum**"
   ]
  },
  {
   "cell_type": "code",
   "execution_count": 25,
   "metadata": {},
   "outputs": [
    {
     "data": {
      "image/png": "[encoded data removed]",
      "text/plain": [
       "<Figure size 800x400 with 2 Axes>"
      ]
     },
     "metadata": {},
     "output_type": "display_data"
    }
   ],
   "source": [
    "# График распределния значений count и sum\n",
    "\n",
    "plt.figure(figsize=(8, 4))\n",
    "for i, name in enumerate([\"count\", \"sum\"]):\n",
    "    ax = plt.subplot(1, 2, i + 1)\n",
    "    ax = sns.kdeplot(data=pays_df, x=name)\n",
    "plt.tight_layout()\n",
    "plt.show()"
   ]
  },
  {
   "cell_type": "code",
   "execution_count": 26,
   "metadata": {},
   "outputs": [
    {
     "data": {
      "image/png": "[encoded data removed]",
      "text/plain": [
       "<Figure size 640x480 with 2 Axes>"
      ]
     },
     "metadata": {},
     "output_type": "display_data"
    }
   ],
   "source": [
    "fig, axs = plt.subplots(1, 2)\n",
    "\n",
    "axs[0].scatter(range(len(pays_df[\"count\"])), pays_df[\"count\"], s=5)\n",
    "axs[0].set_ylabel(\"count\")\n",
    "axs[0].set_xlabel(\"pays\")\n",
    "\n",
    "axs[1].scatter(range(len(pays_df[\"sum\"])), pays_df[\"sum\"], s=5, c=\"r\")\n",
    "axs[1].set_ylabel(\"sum\")\n",
    "axs[1].set_xlabel(\"pays\")\n",
    "\n",
    "plt.tight_layout()\n",
    "plt.show()"
   ]
  },
  {
   "cell_type": "markdown",
   "metadata": {},
   "source": [
    "Приведенные графики свидетеьльствуют о крайне неравномерном распределении. Несмотря на то, что аномальные значения количества платежей и суммы платежей могут не быть выбросами, а отражать специфическое поведение отдельных фирм, попробуем применить межквартильный размах к этим колонкам."
   ]
  },
  {
   "cell_type": "code",
   "execution_count": 27,
   "metadata": {},
   "outputs": [
    {
     "data": {
      "text/html": [
       "<div>\n",
       "<style scoped>\n",
       "    .dataframe tbody tr th:only-of-type {\n",
       "        vertical-align: middle;\n",
       "    }\n",
       "\n",
       "    .dataframe tbody tr th {\n",
       "        vertical-align: top;\n",
       "    }\n",
       "\n",
       "    .dataframe thead th {\n",
       "        text-align: right;\n",
       "    }\n",
       "</style>\n",
       "<table border=\"1\" class=\"dataframe\">\n",
       "  <thead>\n",
       "    <tr style=\"text-align: right;\">\n",
       "      <th></th>\n",
       "      <th>hash_inn_kt</th>\n",
       "      <th>hash_inn_dt</th>\n",
       "      <th>week</th>\n",
       "      <th>count</th>\n",
       "      <th>sum</th>\n",
       "    </tr>\n",
       "  </thead>\n",
       "  <tbody>\n",
       "    <tr>\n",
       "      <th>2</th>\n",
       "      <td>0</td>\n",
       "      <td>0</td>\n",
       "      <td>7</td>\n",
       "      <td>2</td>\n",
       "      <td>79.600</td>\n",
       "    </tr>\n",
       "    <tr>\n",
       "      <th>4</th>\n",
       "      <td>0</td>\n",
       "      <td>0</td>\n",
       "      <td>12</td>\n",
       "      <td>2</td>\n",
       "      <td>79.600</td>\n",
       "    </tr>\n",
       "    <tr>\n",
       "      <th>6</th>\n",
       "      <td>0</td>\n",
       "      <td>0</td>\n",
       "      <td>16</td>\n",
       "      <td>2</td>\n",
       "      <td>0.920</td>\n",
       "    </tr>\n",
       "    <tr>\n",
       "      <th>8</th>\n",
       "      <td>0</td>\n",
       "      <td>0</td>\n",
       "      <td>21</td>\n",
       "      <td>4</td>\n",
       "      <td>0.800</td>\n",
       "    </tr>\n",
       "    <tr>\n",
       "      <th>10</th>\n",
       "      <td>0</td>\n",
       "      <td>7212</td>\n",
       "      <td>3</td>\n",
       "      <td>1</td>\n",
       "      <td>134.548</td>\n",
       "    </tr>\n",
       "    <tr>\n",
       "      <th>...</th>\n",
       "      <td>...</td>\n",
       "      <td>...</td>\n",
       "      <td>...</td>\n",
       "      <td>...</td>\n",
       "      <td>...</td>\n",
       "    </tr>\n",
       "    <tr>\n",
       "      <th>5430143</th>\n",
       "      <td>260510</td>\n",
       "      <td>122389</td>\n",
       "      <td>21</td>\n",
       "      <td>1</td>\n",
       "      <td>48.800</td>\n",
       "    </tr>\n",
       "    <tr>\n",
       "      <th>5430144</th>\n",
       "      <td>260511</td>\n",
       "      <td>77935</td>\n",
       "      <td>2</td>\n",
       "      <td>2</td>\n",
       "      <td>79.600</td>\n",
       "    </tr>\n",
       "    <tr>\n",
       "      <th>5430147</th>\n",
       "      <td>260511</td>\n",
       "      <td>77935</td>\n",
       "      <td>14</td>\n",
       "      <td>2</td>\n",
       "      <td>7.600</td>\n",
       "    </tr>\n",
       "    <tr>\n",
       "      <th>5430148</th>\n",
       "      <td>260511</td>\n",
       "      <td>77935</td>\n",
       "      <td>15</td>\n",
       "      <td>2</td>\n",
       "      <td>79.600</td>\n",
       "    </tr>\n",
       "    <tr>\n",
       "      <th>5430149</th>\n",
       "      <td>260511</td>\n",
       "      <td>260511</td>\n",
       "      <td>10</td>\n",
       "      <td>2</td>\n",
       "      <td>7.600</td>\n",
       "    </tr>\n",
       "  </tbody>\n",
       "</table>\n",
       "<p>4094526 rows × 5 columns</p>\n",
       "</div>"
      ],
      "text/plain": [
       "         hash_inn_kt  hash_inn_dt  week  count      sum\n",
       "2                  0            0     7      2   79.600\n",
       "4                  0            0    12      2   79.600\n",
       "6                  0            0    16      2    0.920\n",
       "8                  0            0    21      4    0.800\n",
       "10                 0         7212     3      1  134.548\n",
       "...              ...          ...   ...    ...      ...\n",
       "5430143       260510       122389    21      1   48.800\n",
       "5430144       260511        77935     2      2   79.600\n",
       "5430147       260511        77935    14      2    7.600\n",
       "5430148       260511        77935    15      2   79.600\n",
       "5430149       260511       260511    10      2    7.600\n",
       "\n",
       "[4094526 rows x 5 columns]"
      ]
     },
     "execution_count": 27,
     "metadata": {},
     "output_type": "execute_result"
    }
   ],
   "source": [
    "sum_count = pays_df[[\"count\", \"sum\"]]\n",
    "sum_count_q1 = sum_count.quantile(q=0.25)  # первый квартиль\n",
    "sum_count_q3 = sum_count.quantile(q=0.75)  # третий квартиль\n",
    "sum_count_iqr = sum_count.apply(iqr)  # межквартильный размах\n",
    "\n",
    "pays_df_clear = pays_df.loc[\n",
    "    ~(\n",
    "        (sum_count < (sum_count_q1 - 1.5 * sum_count_iqr))\n",
    "        | (sum_count > (sum_count_q3 + 1.5 * sum_count_iqr))\n",
    "    ).any(axis=1)\n",
    "]  # отсеиваются строки, в которых не выполняются указанные неравенства по любой из двух колонок\n",
    "\n",
    "pays_df_clear"
   ]
  },
  {
   "cell_type": "code",
   "execution_count": 28,
   "metadata": {},
   "outputs": [
    {
     "data": {
      "image/png": "[encoded data removed]",
      "text/plain": [
       "<Figure size 800x400 with 2 Axes>"
      ]
     },
     "metadata": {},
     "output_type": "display_data"
    }
   ],
   "source": [
    "plt.figure(figsize=(8, 4))\n",
    "for i, name in enumerate([\"count\", \"sum\"]):\n",
    "    ax = plt.subplot(1, 2, i + 1)\n",
    "    ax = sns.kdeplot(data=pays_df_clear, x=name)\n",
    "plt.tight_layout()\n",
    "plt.show()"
   ]
  },
  {
   "cell_type": "code",
   "execution_count": 29,
   "metadata": {},
   "outputs": [
    {
     "data": {
      "image/png": "[encoded data removed]",
      "text/plain": [
       "<Figure size 640x480 with 2 Axes>"
      ]
     },
     "metadata": {},
     "output_type": "display_data"
    }
   ],
   "source": [
    "fig, axs = plt.subplots(1, 2)\n",
    "\n",
    "axs[0].scatter(range(len(pays_df_clear[\"count\"])), pays_df_clear[\"count\"], s=5)\n",
    "axs[0].set_ylabel(\"count\")\n",
    "axs[0].set_xlabel(\"pays\")\n",
    "\n",
    "axs[1].scatter(range(len(pays_df_clear[\"sum\"])), pays_df_clear[\"sum\"], s=0.0001, c=\"r\")\n",
    "axs[1].set_ylabel(\"sum\")\n",
    "axs[1].set_xlabel(\"pays\")\n",
    "\n",
    "plt.tight_layout()\n",
    "plt.show()"
   ]
  },
  {
   "cell_type": "code",
   "execution_count": 30,
   "metadata": {},
   "outputs": [
    {
     "data": {
      "text/plain": [
       "80"
      ]
     },
     "execution_count": 30,
     "metadata": {},
     "output_type": "execute_result"
    }
   ],
   "source": [
    "# Количество классов (уникальных кодов ОКВЭД) среди фирм, не подлежащих классификации и имеющих информацию о входящих и исходящих платежах\n",
    "set_inn_with_in_out_pays_clear = (\n",
    "    set(pays_df_clear[\"hash_inn_dt\"])\n",
    "    & set(pays_df_clear[\"hash_inn_kt\"])\n",
    "    & set(inn_info_public_df[\"hash_inn\"].loc[inn_info_public_df[\"okved2\"] != -1])\n",
    ")\n",
    "(\n",
    "    inn_info_public_df[\"okved2\"].loc[\n",
    "        inn_info_public_df[\"hash_inn\"].isin(set_inn_with_in_out_pays_clear)\n",
    "    ]\n",
    ").nunique()"
   ]
  },
  {
   "cell_type": "code",
   "execution_count": 31,
   "metadata": {},
   "outputs": [
    {
     "data": {
      "text/plain": [
       "30227"
      ]
     },
     "execution_count": 31,
     "metadata": {},
     "output_type": "execute_result"
    }
   ],
   "source": [
    "# Количество фирм, подлежащих классификации, одновременно с информацией об отправленных и о полученных платежах\n",
    "(\n",
    "    set(pays_df_clear[\"hash_inn_dt\"])\n",
    "    & set(pays_df_clear[\"hash_inn_kt\"])\n",
    "    & set(inn_info_public_df[\"hash_inn\"].loc[inn_info_public_df[\"okved2\"] == -1])\n",
    ").__len__()"
   ]
  },
  {
   "cell_type": "code",
   "execution_count": 32,
   "metadata": {},
   "outputs": [
    {
     "data": {
      "text/plain": [
       "62003"
      ]
     },
     "execution_count": 32,
     "metadata": {},
     "output_type": "execute_result"
    }
   ],
   "source": [
    "# Количество фирм, не подлежащих классификации, одновременно с информацией об отправленных и о полученных платежах\n",
    "(\n",
    "    set(pays_df_clear[\"hash_inn_dt\"])\n",
    "    & set(pays_df_clear[\"hash_inn_kt\"])\n",
    "    & set(inn_info_public_df[\"hash_inn\"].loc[inn_info_public_df[\"okved2\"] != -1])\n",
    ").__len__()"
   ]
  },
  {
   "cell_type": "code",
   "execution_count": 33,
   "metadata": {},
   "outputs": [
    {
     "data": {
      "text/plain": [
       "okved2\n",
       "12    16840\n",
       "14     4884\n",
       "34     3857\n",
       "4      3338\n",
       "52     2685\n",
       "      ...  \n",
       "1        22\n",
       "2        21\n",
       "73       17\n",
       "13       15\n",
       "66        5\n",
       "Name: count, Length: 80, dtype: int64"
      ]
     },
     "execution_count": 33,
     "metadata": {},
     "output_type": "execute_result"
    }
   ],
   "source": [
    "# Стратификация фирм по классам\n",
    "(\n",
    "    inn_info_public_df[\"okved2\"].loc[\n",
    "        inn_info_public_df[\"hash_inn\"].isin(set_inn_with_in_out_pays_clear)\n",
    "    ]\n",
    ").value_counts()"
   ]
  },
  {
   "cell_type": "markdown",
   "metadata": {},
   "source": [
    "После применения данного метода из `pays_df` было удалено около 1/5 платежей. Как было отмечено выше, возможно, данные пплатежи не являлись выбросами. Однако, после удаления \"выбросов\" распредедление данных преобрело интерпретируемые формы, как видно из графиков. При этом число фирм с информацией о входящих и исходящих платежах изменилось незначительно, а количество классов осталось неизменным, что может свидетельствовать об отсутствии специфических фирм в удаленных данных.\n",
    "\n",
    "Качественная оценка изменения стратификации до и после отчистки от выбросов, свидетельствует в пользу того, что выбросы в данных скорее содержались, так как количество сэмплов уменьшилось во всех стратах"
   ]
  },
  {
   "cell_type": "markdown",
   "metadata": {},
   "source": [
    "### 2. Составление датасета для обучения модели"
   ]
  },
  {
   "cell_type": "markdown",
   "metadata": {},
   "source": [
    "В качестве объектов в датасете будут выступать фирмы. В качестве признаков у каждого объекта предварительно будут следующие поля:\n",
    "\n",
    "- обезличенный инн **hash_inn**\n",
    "- регион **region**\n",
    "- количество уникальных контрагентов по входящим платежам **uniq_contr_in**\n",
    "- общее количество входящих платежей **tot_count_in**\n",
    "- среднее количество входящих платежей за неделю **mean_count_in**\n",
    "- общая сумма входящих платежей **tot_sum_in**\n",
    "- средняя сумма входящих платежей за неделю **mean_sum_in**\n",
    "- количество уникальных контрагентов по исходящим платежам **uniq_contr_out**\n",
    "- общее количество исходящих платежей **tot_count_out**\n",
    "- среднее количество исходящих платежей за неделю **mean_count_out**\n",
    "- общая сумма исходящих платежей **tot_sum_out**\n",
    "- средняя сумма исходящих платежей за неделю **mean_sum_out**\n",
    "\n",
    "Целевой переменной является поле **okved2**"
   ]
  },
  {
   "cell_type": "code",
   "execution_count": 34,
   "metadata": {},
   "outputs": [
    {
     "data": {
      "text/plain": [
       "92230"
      ]
     },
     "execution_count": 34,
     "metadata": {},
     "output_type": "execute_result"
    }
   ],
   "source": [
    "# Количество фирм одновременно с информацией об отправленных и о полученных платежах\n",
    "\n",
    "tot_set_inn_with_in_out_pays_clear = (\n",
    "    set(pays_df_clear[\"hash_inn_dt\"])\n",
    "    & set(pays_df_clear[\"hash_inn_kt\"])\n",
    "    & set(inn_info_public_df[\"hash_inn\"])\n",
    ")\n",
    "\n",
    "len(tot_set_inn_with_in_out_pays_clear)"
   ]
  },
  {
   "cell_type": "code",
   "execution_count": 35,
   "metadata": {},
   "outputs": [],
   "source": [
    "# Соберем информацию о фходящих платежах фирм и об исходящих платежах\n",
    "\n",
    "pays_df_clear_out = pays_df_clear[[\"hash_inn_kt\", \"hash_inn_dt\", \"count\", \"sum\"]].loc[\n",
    "    pays_df_clear[\"hash_inn_kt\"].isin(tot_set_inn_with_in_out_pays_clear)\n",
    "]\n",
    "\n",
    "pays_df_clear_in = pays_df_clear[[\"hash_inn_dt\", \"hash_inn_kt\", \"count\", \"sum\"]].loc[\n",
    "    pays_df_clear[\"hash_inn_dt\"].isin(tot_set_inn_with_in_out_pays_clear)\n",
    "]"
   ]
  },
  {
   "cell_type": "code",
   "execution_count": 36,
   "metadata": {},
   "outputs": [
    {
     "data": {
      "text/plain": [
       "(92230, 92230)"
      ]
     },
     "execution_count": 36,
     "metadata": {},
     "output_type": "execute_result"
    }
   ],
   "source": [
    "pays_df_clear_in[\"hash_inn_dt\"].nunique(), pays_df_clear_out[\"hash_inn_kt\"].nunique()"
   ]
  },
  {
   "cell_type": "code",
   "execution_count": 37,
   "metadata": {},
   "outputs": [],
   "source": [
    "# Подсчет значений признаков для каждой фирмы\n",
    "\n",
    "inn_pays_df_clear_in = (\n",
    "    pays_df_clear_in.groupby(\"hash_inn_dt\")\n",
    "    .agg(\n",
    "        uniq_contr_in=pd.NamedAgg(column=\"hash_inn_kt\", aggfunc=\"nunique\"),\n",
    "        tot_count_in=pd.NamedAgg(column=\"count\", aggfunc=\"sum\"),\n",
    "        mean_count_in=pd.NamedAgg(column=\"count\", aggfunc=\"mean\"),\n",
    "        tot_sum_in=pd.NamedAgg(column=\"sum\", aggfunc=\"sum\"),\n",
    "        mean_sum_in=pd.NamedAgg(column=\"sum\", aggfunc=\"mean\"),\n",
    "    )\n",
    "    .reset_index()\n",
    ")\n",
    "\n",
    "inn_pays_df_clear_out = (\n",
    "    pays_df_clear_out.groupby(\"hash_inn_kt\")\n",
    "    .agg(\n",
    "        uniq_contr_out=pd.NamedAgg(column=\"hash_inn_dt\", aggfunc=\"nunique\"),\n",
    "        tot_count_out=pd.NamedAgg(column=\"count\", aggfunc=\"sum\"),\n",
    "        mean_count_out=pd.NamedAgg(column=\"count\", aggfunc=\"mean\"),\n",
    "        tot_sum_out=pd.NamedAgg(column=\"sum\", aggfunc=\"sum\"),\n",
    "        mean_sum_out=pd.NamedAgg(column=\"sum\", aggfunc=\"mean\"),\n",
    "    )\n",
    "    .reset_index()\n",
    ")"
   ]
  },
  {
   "cell_type": "code",
   "execution_count": 38,
   "metadata": {},
   "outputs": [
    {
     "data": {
      "text/html": [
       "<div>\n",
       "<style scoped>\n",
       "    .dataframe tbody tr th:only-of-type {\n",
       "        vertical-align: middle;\n",
       "    }\n",
       "\n",
       "    .dataframe tbody tr th {\n",
       "        vertical-align: top;\n",
       "    }\n",
       "\n",
       "    .dataframe thead th {\n",
       "        text-align: right;\n",
       "    }\n",
       "</style>\n",
       "<table border=\"1\" class=\"dataframe\">\n",
       "  <thead>\n",
       "    <tr style=\"text-align: right;\">\n",
       "      <th></th>\n",
       "      <th>hash_inn_dt</th>\n",
       "      <th>uniq_contr_in</th>\n",
       "      <th>tot_count_in</th>\n",
       "      <th>mean_count_in</th>\n",
       "      <th>tot_sum_in</th>\n",
       "      <th>mean_sum_in</th>\n",
       "    </tr>\n",
       "  </thead>\n",
       "  <tbody>\n",
       "    <tr>\n",
       "      <th>0</th>\n",
       "      <td>0</td>\n",
       "      <td>124</td>\n",
       "      <td>629</td>\n",
       "      <td>1.839181</td>\n",
       "      <td>9571.260</td>\n",
       "      <td>27.986140</td>\n",
       "    </tr>\n",
       "    <tr>\n",
       "      <th>1</th>\n",
       "      <td>2</td>\n",
       "      <td>1</td>\n",
       "      <td>18</td>\n",
       "      <td>2.250000</td>\n",
       "      <td>293.212</td>\n",
       "      <td>36.651500</td>\n",
       "    </tr>\n",
       "    <tr>\n",
       "      <th>2</th>\n",
       "      <td>5</td>\n",
       "      <td>4</td>\n",
       "      <td>28</td>\n",
       "      <td>2.000000</td>\n",
       "      <td>123.400</td>\n",
       "      <td>8.814286</td>\n",
       "    </tr>\n",
       "    <tr>\n",
       "      <th>3</th>\n",
       "      <td>7</td>\n",
       "      <td>5</td>\n",
       "      <td>8</td>\n",
       "      <td>1.142857</td>\n",
       "      <td>371.348</td>\n",
       "      <td>53.049714</td>\n",
       "    </tr>\n",
       "    <tr>\n",
       "      <th>4</th>\n",
       "      <td>10</td>\n",
       "      <td>9</td>\n",
       "      <td>60</td>\n",
       "      <td>2.142857</td>\n",
       "      <td>134.216</td>\n",
       "      <td>4.793429</td>\n",
       "    </tr>\n",
       "    <tr>\n",
       "      <th>...</th>\n",
       "      <td>...</td>\n",
       "      <td>...</td>\n",
       "      <td>...</td>\n",
       "      <td>...</td>\n",
       "      <td>...</td>\n",
       "      <td>...</td>\n",
       "    </tr>\n",
       "    <tr>\n",
       "      <th>92225</th>\n",
       "      <td>260504</td>\n",
       "      <td>16</td>\n",
       "      <td>76</td>\n",
       "      <td>1.727273</td>\n",
       "      <td>491.532</td>\n",
       "      <td>11.171182</td>\n",
       "    </tr>\n",
       "    <tr>\n",
       "      <th>92226</th>\n",
       "      <td>260507</td>\n",
       "      <td>1</td>\n",
       "      <td>6</td>\n",
       "      <td>3.000000</td>\n",
       "      <td>271.836</td>\n",
       "      <td>135.918000</td>\n",
       "    </tr>\n",
       "    <tr>\n",
       "      <th>92227</th>\n",
       "      <td>260509</td>\n",
       "      <td>18</td>\n",
       "      <td>131</td>\n",
       "      <td>2.425926</td>\n",
       "      <td>1064.088</td>\n",
       "      <td>19.705333</td>\n",
       "    </tr>\n",
       "    <tr>\n",
       "      <th>92228</th>\n",
       "      <td>260510</td>\n",
       "      <td>1</td>\n",
       "      <td>2</td>\n",
       "      <td>2.000000</td>\n",
       "      <td>2.196</td>\n",
       "      <td>2.196000</td>\n",
       "    </tr>\n",
       "    <tr>\n",
       "      <th>92229</th>\n",
       "      <td>260511</td>\n",
       "      <td>6</td>\n",
       "      <td>17</td>\n",
       "      <td>1.545455</td>\n",
       "      <td>241.916</td>\n",
       "      <td>21.992364</td>\n",
       "    </tr>\n",
       "  </tbody>\n",
       "</table>\n",
       "<p>92230 rows × 6 columns</p>\n",
       "</div>"
      ],
      "text/plain": [
       "       hash_inn_dt  uniq_contr_in  tot_count_in  mean_count_in  tot_sum_in  \\\n",
       "0                0            124           629       1.839181    9571.260   \n",
       "1                2              1            18       2.250000     293.212   \n",
       "2                5              4            28       2.000000     123.400   \n",
       "3                7              5             8       1.142857     371.348   \n",
       "4               10              9            60       2.142857     134.216   \n",
       "...            ...            ...           ...            ...         ...   \n",
       "92225       260504             16            76       1.727273     491.532   \n",
       "92226       260507              1             6       3.000000     271.836   \n",
       "92227       260509             18           131       2.425926    1064.088   \n",
       "92228       260510              1             2       2.000000       2.196   \n",
       "92229       260511              6            17       1.545455     241.916   \n",
       "\n",
       "       mean_sum_in  \n",
       "0        27.986140  \n",
       "1        36.651500  \n",
       "2         8.814286  \n",
       "3        53.049714  \n",
       "4         4.793429  \n",
       "...            ...  \n",
       "92225    11.171182  \n",
       "92226   135.918000  \n",
       "92227    19.705333  \n",
       "92228     2.196000  \n",
       "92229    21.992364  \n",
       "\n",
       "[92230 rows x 6 columns]"
      ]
     },
     "execution_count": 38,
     "metadata": {},
     "output_type": "execute_result"
    }
   ],
   "source": [
    "inn_pays_df_clear_in"
   ]
  },
  {
   "cell_type": "code",
   "execution_count": 39,
   "metadata": {},
   "outputs": [
    {
     "data": {
      "text/html": [
       "<div>\n",
       "<style scoped>\n",
       "    .dataframe tbody tr th:only-of-type {\n",
       "        vertical-align: middle;\n",
       "    }\n",
       "\n",
       "    .dataframe tbody tr th {\n",
       "        vertical-align: top;\n",
       "    }\n",
       "\n",
       "    .dataframe thead th {\n",
       "        text-align: right;\n",
       "    }\n",
       "</style>\n",
       "<table border=\"1\" class=\"dataframe\">\n",
       "  <thead>\n",
       "    <tr style=\"text-align: right;\">\n",
       "      <th></th>\n",
       "      <th>hash_inn_kt</th>\n",
       "      <th>uniq_contr_out</th>\n",
       "      <th>tot_count_out</th>\n",
       "      <th>mean_count_out</th>\n",
       "      <th>tot_sum_out</th>\n",
       "      <th>mean_sum_out</th>\n",
       "    </tr>\n",
       "  </thead>\n",
       "  <tbody>\n",
       "    <tr>\n",
       "      <th>0</th>\n",
       "      <td>0</td>\n",
       "      <td>19</td>\n",
       "      <td>57</td>\n",
       "      <td>1.900000</td>\n",
       "      <td>1613.672</td>\n",
       "      <td>53.789067</td>\n",
       "    </tr>\n",
       "    <tr>\n",
       "      <th>1</th>\n",
       "      <td>2</td>\n",
       "      <td>3</td>\n",
       "      <td>5</td>\n",
       "      <td>1.666667</td>\n",
       "      <td>36.240</td>\n",
       "      <td>12.080000</td>\n",
       "    </tr>\n",
       "    <tr>\n",
       "      <th>2</th>\n",
       "      <td>5</td>\n",
       "      <td>3</td>\n",
       "      <td>40</td>\n",
       "      <td>1.904762</td>\n",
       "      <td>272.288</td>\n",
       "      <td>12.966095</td>\n",
       "    </tr>\n",
       "    <tr>\n",
       "      <th>3</th>\n",
       "      <td>7</td>\n",
       "      <td>2</td>\n",
       "      <td>17</td>\n",
       "      <td>1.062500</td>\n",
       "      <td>603.376</td>\n",
       "      <td>37.711000</td>\n",
       "    </tr>\n",
       "    <tr>\n",
       "      <th>4</th>\n",
       "      <td>10</td>\n",
       "      <td>1</td>\n",
       "      <td>4</td>\n",
       "      <td>2.000000</td>\n",
       "      <td>1.600</td>\n",
       "      <td>0.800000</td>\n",
       "    </tr>\n",
       "    <tr>\n",
       "      <th>...</th>\n",
       "      <td>...</td>\n",
       "      <td>...</td>\n",
       "      <td>...</td>\n",
       "      <td>...</td>\n",
       "      <td>...</td>\n",
       "      <td>...</td>\n",
       "    </tr>\n",
       "    <tr>\n",
       "      <th>92225</th>\n",
       "      <td>260504</td>\n",
       "      <td>11</td>\n",
       "      <td>40</td>\n",
       "      <td>2.500000</td>\n",
       "      <td>980.276</td>\n",
       "      <td>61.267250</td>\n",
       "    </tr>\n",
       "    <tr>\n",
       "      <th>92226</th>\n",
       "      <td>260507</td>\n",
       "      <td>1</td>\n",
       "      <td>9</td>\n",
       "      <td>1.500000</td>\n",
       "      <td>139.016</td>\n",
       "      <td>23.169333</td>\n",
       "    </tr>\n",
       "    <tr>\n",
       "      <th>92227</th>\n",
       "      <td>260509</td>\n",
       "      <td>21</td>\n",
       "      <td>261</td>\n",
       "      <td>2.088000</td>\n",
       "      <td>5522.060</td>\n",
       "      <td>44.176480</td>\n",
       "    </tr>\n",
       "    <tr>\n",
       "      <th>92228</th>\n",
       "      <td>260510</td>\n",
       "      <td>1</td>\n",
       "      <td>3</td>\n",
       "      <td>1.000000</td>\n",
       "      <td>220.760</td>\n",
       "      <td>73.586667</td>\n",
       "    </tr>\n",
       "    <tr>\n",
       "      <th>92229</th>\n",
       "      <td>260511</td>\n",
       "      <td>2</td>\n",
       "      <td>8</td>\n",
       "      <td>2.000000</td>\n",
       "      <td>174.400</td>\n",
       "      <td>43.600000</td>\n",
       "    </tr>\n",
       "  </tbody>\n",
       "</table>\n",
       "<p>92230 rows × 6 columns</p>\n",
       "</div>"
      ],
      "text/plain": [
       "       hash_inn_kt  uniq_contr_out  tot_count_out  mean_count_out  \\\n",
       "0                0              19             57        1.900000   \n",
       "1                2               3              5        1.666667   \n",
       "2                5               3             40        1.904762   \n",
       "3                7               2             17        1.062500   \n",
       "4               10               1              4        2.000000   \n",
       "...            ...             ...            ...             ...   \n",
       "92225       260504              11             40        2.500000   \n",
       "92226       260507               1              9        1.500000   \n",
       "92227       260509              21            261        2.088000   \n",
       "92228       260510               1              3        1.000000   \n",
       "92229       260511               2              8        2.000000   \n",
       "\n",
       "       tot_sum_out  mean_sum_out  \n",
       "0         1613.672     53.789067  \n",
       "1           36.240     12.080000  \n",
       "2          272.288     12.966095  \n",
       "3          603.376     37.711000  \n",
       "4            1.600      0.800000  \n",
       "...            ...           ...  \n",
       "92225      980.276     61.267250  \n",
       "92226      139.016     23.169333  \n",
       "92227     5522.060     44.176480  \n",
       "92228      220.760     73.586667  \n",
       "92229      174.400     43.600000  \n",
       "\n",
       "[92230 rows x 6 columns]"
      ]
     },
     "execution_count": 39,
     "metadata": {},
     "output_type": "execute_result"
    }
   ],
   "source": [
    "inn_pays_df_clear_out"
   ]
  },
  {
   "cell_type": "code",
   "execution_count": 40,
   "metadata": {},
   "outputs": [],
   "source": [
    "inn_info_in_out_df = (\n",
    "    inn_info_public_df[[\"hash_inn\", \"region\", \"okved2\"]]\n",
    "    .sort_values(\"hash_inn\")\n",
    "    .loc[inn_info_public_df[\"hash_inn\"].isin(tot_set_inn_with_in_out_pays_clear)]\n",
    ").reset_index(drop=True)"
   ]
  },
  {
   "cell_type": "code",
   "execution_count": 41,
   "metadata": {},
   "outputs": [
    {
     "data": {
      "text/html": [
       "<div>\n",
       "<style scoped>\n",
       "    .dataframe tbody tr th:only-of-type {\n",
       "        vertical-align: middle;\n",
       "    }\n",
       "\n",
       "    .dataframe tbody tr th {\n",
       "        vertical-align: top;\n",
       "    }\n",
       "\n",
       "    .dataframe thead th {\n",
       "        text-align: right;\n",
       "    }\n",
       "</style>\n",
       "<table border=\"1\" class=\"dataframe\">\n",
       "  <thead>\n",
       "    <tr style=\"text-align: right;\">\n",
       "      <th></th>\n",
       "      <th>hash_inn</th>\n",
       "      <th>region</th>\n",
       "      <th>okved2</th>\n",
       "    </tr>\n",
       "  </thead>\n",
       "  <tbody>\n",
       "    <tr>\n",
       "      <th>0</th>\n",
       "      <td>0</td>\n",
       "      <td>84</td>\n",
       "      <td>-1</td>\n",
       "    </tr>\n",
       "    <tr>\n",
       "      <th>1</th>\n",
       "      <td>2</td>\n",
       "      <td>58</td>\n",
       "      <td>-1</td>\n",
       "    </tr>\n",
       "    <tr>\n",
       "      <th>2</th>\n",
       "      <td>5</td>\n",
       "      <td>85</td>\n",
       "      <td>14</td>\n",
       "    </tr>\n",
       "    <tr>\n",
       "      <th>3</th>\n",
       "      <td>7</td>\n",
       "      <td>18</td>\n",
       "      <td>12</td>\n",
       "    </tr>\n",
       "    <tr>\n",
       "      <th>4</th>\n",
       "      <td>10</td>\n",
       "      <td>85</td>\n",
       "      <td>14</td>\n",
       "    </tr>\n",
       "    <tr>\n",
       "      <th>...</th>\n",
       "      <td>...</td>\n",
       "      <td>...</td>\n",
       "      <td>...</td>\n",
       "    </tr>\n",
       "    <tr>\n",
       "      <th>92225</th>\n",
       "      <td>260504</td>\n",
       "      <td>85</td>\n",
       "      <td>12</td>\n",
       "    </tr>\n",
       "    <tr>\n",
       "      <th>92226</th>\n",
       "      <td>260507</td>\n",
       "      <td>64</td>\n",
       "      <td>69</td>\n",
       "    </tr>\n",
       "    <tr>\n",
       "      <th>92227</th>\n",
       "      <td>260509</td>\n",
       "      <td>84</td>\n",
       "      <td>12</td>\n",
       "    </tr>\n",
       "    <tr>\n",
       "      <th>92228</th>\n",
       "      <td>260510</td>\n",
       "      <td>58</td>\n",
       "      <td>43</td>\n",
       "    </tr>\n",
       "    <tr>\n",
       "      <th>92229</th>\n",
       "      <td>260511</td>\n",
       "      <td>84</td>\n",
       "      <td>12</td>\n",
       "    </tr>\n",
       "  </tbody>\n",
       "</table>\n",
       "<p>92230 rows × 3 columns</p>\n",
       "</div>"
      ],
      "text/plain": [
       "       hash_inn  region  okved2\n",
       "0             0      84      -1\n",
       "1             2      58      -1\n",
       "2             5      85      14\n",
       "3             7      18      12\n",
       "4            10      85      14\n",
       "...         ...     ...     ...\n",
       "92225    260504      85      12\n",
       "92226    260507      64      69\n",
       "92227    260509      84      12\n",
       "92228    260510      58      43\n",
       "92229    260511      84      12\n",
       "\n",
       "[92230 rows x 3 columns]"
      ]
     },
     "execution_count": 41,
     "metadata": {},
     "output_type": "execute_result"
    }
   ],
   "source": [
    "inn_info_in_out_df"
   ]
  },
  {
   "cell_type": "code",
   "execution_count": 83,
   "metadata": {},
   "outputs": [
    {
     "data": {
      "text/html": [
       "<div>\n",
       "<style scoped>\n",
       "    .dataframe tbody tr th:only-of-type {\n",
       "        vertical-align: middle;\n",
       "    }\n",
       "\n",
       "    .dataframe tbody tr th {\n",
       "        vertical-align: top;\n",
       "    }\n",
       "\n",
       "    .dataframe thead th {\n",
       "        text-align: right;\n",
       "    }\n",
       "</style>\n",
       "<table border=\"1\" class=\"dataframe\">\n",
       "  <thead>\n",
       "    <tr style=\"text-align: right;\">\n",
       "      <th></th>\n",
       "      <th>hash_inn</th>\n",
       "      <th>region</th>\n",
       "      <th>okved2</th>\n",
       "      <th>uniq_contr_in</th>\n",
       "      <th>tot_count_in</th>\n",
       "      <th>mean_count_in</th>\n",
       "      <th>tot_sum_in</th>\n",
       "      <th>mean_sum_in</th>\n",
       "      <th>uniq_contr_out</th>\n",
       "      <th>tot_count_out</th>\n",
       "      <th>mean_count_out</th>\n",
       "      <th>tot_sum_out</th>\n",
       "      <th>mean_sum_out</th>\n",
       "    </tr>\n",
       "  </thead>\n",
       "  <tbody>\n",
       "    <tr>\n",
       "      <th>0</th>\n",
       "      <td>0</td>\n",
       "      <td>84</td>\n",
       "      <td>-1</td>\n",
       "      <td>124</td>\n",
       "      <td>629</td>\n",
       "      <td>1.839181</td>\n",
       "      <td>9571.260</td>\n",
       "      <td>27.986140</td>\n",
       "      <td>19</td>\n",
       "      <td>57</td>\n",
       "      <td>1.900000</td>\n",
       "      <td>1613.672</td>\n",
       "      <td>53.789067</td>\n",
       "    </tr>\n",
       "    <tr>\n",
       "      <th>1</th>\n",
       "      <td>2</td>\n",
       "      <td>58</td>\n",
       "      <td>-1</td>\n",
       "      <td>1</td>\n",
       "      <td>18</td>\n",
       "      <td>2.250000</td>\n",
       "      <td>293.212</td>\n",
       "      <td>36.651500</td>\n",
       "      <td>3</td>\n",
       "      <td>5</td>\n",
       "      <td>1.666667</td>\n",
       "      <td>36.240</td>\n",
       "      <td>12.080000</td>\n",
       "    </tr>\n",
       "    <tr>\n",
       "      <th>2</th>\n",
       "      <td>5</td>\n",
       "      <td>85</td>\n",
       "      <td>14</td>\n",
       "      <td>4</td>\n",
       "      <td>28</td>\n",
       "      <td>2.000000</td>\n",
       "      <td>123.400</td>\n",
       "      <td>8.814286</td>\n",
       "      <td>3</td>\n",
       "      <td>40</td>\n",
       "      <td>1.904762</td>\n",
       "      <td>272.288</td>\n",
       "      <td>12.966095</td>\n",
       "    </tr>\n",
       "    <tr>\n",
       "      <th>3</th>\n",
       "      <td>7</td>\n",
       "      <td>18</td>\n",
       "      <td>12</td>\n",
       "      <td>5</td>\n",
       "      <td>8</td>\n",
       "      <td>1.142857</td>\n",
       "      <td>371.348</td>\n",
       "      <td>53.049714</td>\n",
       "      <td>2</td>\n",
       "      <td>17</td>\n",
       "      <td>1.062500</td>\n",
       "      <td>603.376</td>\n",
       "      <td>37.711000</td>\n",
       "    </tr>\n",
       "    <tr>\n",
       "      <th>4</th>\n",
       "      <td>10</td>\n",
       "      <td>85</td>\n",
       "      <td>14</td>\n",
       "      <td>9</td>\n",
       "      <td>60</td>\n",
       "      <td>2.142857</td>\n",
       "      <td>134.216</td>\n",
       "      <td>4.793429</td>\n",
       "      <td>1</td>\n",
       "      <td>4</td>\n",
       "      <td>2.000000</td>\n",
       "      <td>1.600</td>\n",
       "      <td>0.800000</td>\n",
       "    </tr>\n",
       "    <tr>\n",
       "      <th>...</th>\n",
       "      <td>...</td>\n",
       "      <td>...</td>\n",
       "      <td>...</td>\n",
       "      <td>...</td>\n",
       "      <td>...</td>\n",
       "      <td>...</td>\n",
       "      <td>...</td>\n",
       "      <td>...</td>\n",
       "      <td>...</td>\n",
       "      <td>...</td>\n",
       "      <td>...</td>\n",
       "      <td>...</td>\n",
       "      <td>...</td>\n",
       "    </tr>\n",
       "    <tr>\n",
       "      <th>92225</th>\n",
       "      <td>260504</td>\n",
       "      <td>85</td>\n",
       "      <td>12</td>\n",
       "      <td>16</td>\n",
       "      <td>76</td>\n",
       "      <td>1.727273</td>\n",
       "      <td>491.532</td>\n",
       "      <td>11.171182</td>\n",
       "      <td>11</td>\n",
       "      <td>40</td>\n",
       "      <td>2.500000</td>\n",
       "      <td>980.276</td>\n",
       "      <td>61.267250</td>\n",
       "    </tr>\n",
       "    <tr>\n",
       "      <th>92226</th>\n",
       "      <td>260507</td>\n",
       "      <td>64</td>\n",
       "      <td>69</td>\n",
       "      <td>1</td>\n",
       "      <td>6</td>\n",
       "      <td>3.000000</td>\n",
       "      <td>271.836</td>\n",
       "      <td>135.918000</td>\n",
       "      <td>1</td>\n",
       "      <td>9</td>\n",
       "      <td>1.500000</td>\n",
       "      <td>139.016</td>\n",
       "      <td>23.169333</td>\n",
       "    </tr>\n",
       "    <tr>\n",
       "      <th>92227</th>\n",
       "      <td>260509</td>\n",
       "      <td>84</td>\n",
       "      <td>12</td>\n",
       "      <td>18</td>\n",
       "      <td>131</td>\n",
       "      <td>2.425926</td>\n",
       "      <td>1064.088</td>\n",
       "      <td>19.705333</td>\n",
       "      <td>21</td>\n",
       "      <td>261</td>\n",
       "      <td>2.088000</td>\n",
       "      <td>5522.060</td>\n",
       "      <td>44.176480</td>\n",
       "    </tr>\n",
       "    <tr>\n",
       "      <th>92228</th>\n",
       "      <td>260510</td>\n",
       "      <td>58</td>\n",
       "      <td>43</td>\n",
       "      <td>1</td>\n",
       "      <td>2</td>\n",
       "      <td>2.000000</td>\n",
       "      <td>2.196</td>\n",
       "      <td>2.196000</td>\n",
       "      <td>1</td>\n",
       "      <td>3</td>\n",
       "      <td>1.000000</td>\n",
       "      <td>220.760</td>\n",
       "      <td>73.586667</td>\n",
       "    </tr>\n",
       "    <tr>\n",
       "      <th>92229</th>\n",
       "      <td>260511</td>\n",
       "      <td>84</td>\n",
       "      <td>12</td>\n",
       "      <td>6</td>\n",
       "      <td>17</td>\n",
       "      <td>1.545455</td>\n",
       "      <td>241.916</td>\n",
       "      <td>21.992364</td>\n",
       "      <td>2</td>\n",
       "      <td>8</td>\n",
       "      <td>2.000000</td>\n",
       "      <td>174.400</td>\n",
       "      <td>43.600000</td>\n",
       "    </tr>\n",
       "  </tbody>\n",
       "</table>\n",
       "<p>92230 rows × 13 columns</p>\n",
       "</div>"
      ],
      "text/plain": [
       "       hash_inn  region  okved2  uniq_contr_in  tot_count_in  mean_count_in  \\\n",
       "0             0      84      -1            124           629       1.839181   \n",
       "1             2      58      -1              1            18       2.250000   \n",
       "2             5      85      14              4            28       2.000000   \n",
       "3             7      18      12              5             8       1.142857   \n",
       "4            10      85      14              9            60       2.142857   \n",
       "...         ...     ...     ...            ...           ...            ...   \n",
       "92225    260504      85      12             16            76       1.727273   \n",
       "92226    260507      64      69              1             6       3.000000   \n",
       "92227    260509      84      12             18           131       2.425926   \n",
       "92228    260510      58      43              1             2       2.000000   \n",
       "92229    260511      84      12              6            17       1.545455   \n",
       "\n",
       "       tot_sum_in  mean_sum_in  uniq_contr_out  tot_count_out  mean_count_out  \\\n",
       "0        9571.260    27.986140              19             57        1.900000   \n",
       "1         293.212    36.651500               3              5        1.666667   \n",
       "2         123.400     8.814286               3             40        1.904762   \n",
       "3         371.348    53.049714               2             17        1.062500   \n",
       "4         134.216     4.793429               1              4        2.000000   \n",
       "...           ...          ...             ...            ...             ...   \n",
       "92225     491.532    11.171182              11             40        2.500000   \n",
       "92226     271.836   135.918000               1              9        1.500000   \n",
       "92227    1064.088    19.705333              21            261        2.088000   \n",
       "92228       2.196     2.196000               1              3        1.000000   \n",
       "92229     241.916    21.992364               2              8        2.000000   \n",
       "\n",
       "       tot_sum_out  mean_sum_out  \n",
       "0         1613.672     53.789067  \n",
       "1           36.240     12.080000  \n",
       "2          272.288     12.966095  \n",
       "3          603.376     37.711000  \n",
       "4            1.600      0.800000  \n",
       "...            ...           ...  \n",
       "92225      980.276     61.267250  \n",
       "92226      139.016     23.169333  \n",
       "92227     5522.060     44.176480  \n",
       "92228      220.760     73.586667  \n",
       "92229      174.400     43.600000  \n",
       "\n",
       "[92230 rows x 13 columns]"
      ]
     },
     "execution_count": 83,
     "metadata": {},
     "output_type": "execute_result"
    }
   ],
   "source": [
    "# Соединим получившиеся таблицы\n",
    "\n",
    "dataset_df = pd.concat(\n",
    "    [inn_info_in_out_df, inn_pays_df_clear_in, inn_pays_df_clear_out], axis=1\n",
    ").drop([\"hash_inn_kt\", \"hash_inn_dt\"], axis=1)\n",
    "\n",
    "dataset_df"
   ]
  },
  {
   "cell_type": "code",
   "execution_count": 43,
   "metadata": {},
   "outputs": [
    {
     "data": {
      "text/plain": [
       "[]"
      ]
     },
     "execution_count": 43,
     "metadata": {},
     "output_type": "execute_result"
    },
    {
     "data": {
      "image/png": "[encoded data removed]",
      "text/plain": [
       "<Figure size 1800x100 with 1 Axes>"
      ]
     },
     "metadata": {},
     "output_type": "display_data"
    }
   ],
   "source": [
    "corr = dataset_df.loc[dataset_df[\"okved2\"] != -1].corr().round(2)\n",
    "plt.figure(figsize=(18, 1))\n",
    "sns.heatmap(\n",
    "    data=corr.loc[corr.index == \"okved2\", :],\n",
    "    cmap=\"coolwarm\",\n",
    "    annot=True,\n",
    "    vmin=-1,\n",
    "    vmax=1,\n",
    "    square=False,\n",
    "    cbar=False,\n",
    ")\n",
    "plt.plot()"
   ]
  },
  {
   "cell_type": "markdown",
   "metadata": {},
   "source": [
    "Коэффициент корелляции для целевой переменной на данном датасете не показывает значимых взаимосвязей. Следовательно, если между признаками и целевой переменной есть какая-то взаимосвязь, то она носит нелинейный характер."
   ]
  },
  {
   "cell_type": "code",
   "execution_count": 84,
   "metadata": {},
   "outputs": [],
   "source": [
    "# Разделение датасета на фирмы с известным ОКВЭД и неизвестным\n",
    "\n",
    "train_test_df = dataset_df.loc[dataset_df[\"okved2\"] != -1]\n",
    "for_predict_df = dataset_df.loc[dataset_df[\"okved2\"] == -1].drop(columns=[\"okved2\"])"
   ]
  },
  {
   "cell_type": "code",
   "execution_count": 85,
   "metadata": {},
   "outputs": [
    {
     "data": {
      "text/html": [
       "<div>\n",
       "<style scoped>\n",
       "    .dataframe tbody tr th:only-of-type {\n",
       "        vertical-align: middle;\n",
       "    }\n",
       "\n",
       "    .dataframe tbody tr th {\n",
       "        vertical-align: top;\n",
       "    }\n",
       "\n",
       "    .dataframe thead th {\n",
       "        text-align: right;\n",
       "    }\n",
       "</style>\n",
       "<table border=\"1\" class=\"dataframe\">\n",
       "  <thead>\n",
       "    <tr style=\"text-align: right;\">\n",
       "      <th></th>\n",
       "      <th>hash_inn</th>\n",
       "      <th>region</th>\n",
       "      <th>okved2</th>\n",
       "      <th>uniq_contr_in</th>\n",
       "      <th>tot_count_in</th>\n",
       "      <th>mean_count_in</th>\n",
       "      <th>tot_sum_in</th>\n",
       "      <th>mean_sum_in</th>\n",
       "      <th>uniq_contr_out</th>\n",
       "      <th>tot_count_out</th>\n",
       "      <th>mean_count_out</th>\n",
       "      <th>tot_sum_out</th>\n",
       "      <th>mean_sum_out</th>\n",
       "    </tr>\n",
       "  </thead>\n",
       "  <tbody>\n",
       "    <tr>\n",
       "      <th>2</th>\n",
       "      <td>5</td>\n",
       "      <td>85</td>\n",
       "      <td>14</td>\n",
       "      <td>4</td>\n",
       "      <td>28</td>\n",
       "      <td>2.000000</td>\n",
       "      <td>123.400</td>\n",
       "      <td>8.814286</td>\n",
       "      <td>3</td>\n",
       "      <td>40</td>\n",
       "      <td>1.904762</td>\n",
       "      <td>272.288</td>\n",
       "      <td>12.966095</td>\n",
       "    </tr>\n",
       "    <tr>\n",
       "      <th>3</th>\n",
       "      <td>7</td>\n",
       "      <td>18</td>\n",
       "      <td>12</td>\n",
       "      <td>5</td>\n",
       "      <td>8</td>\n",
       "      <td>1.142857</td>\n",
       "      <td>371.348</td>\n",
       "      <td>53.049714</td>\n",
       "      <td>2</td>\n",
       "      <td>17</td>\n",
       "      <td>1.062500</td>\n",
       "      <td>603.376</td>\n",
       "      <td>37.711000</td>\n",
       "    </tr>\n",
       "    <tr>\n",
       "      <th>4</th>\n",
       "      <td>10</td>\n",
       "      <td>85</td>\n",
       "      <td>14</td>\n",
       "      <td>9</td>\n",
       "      <td>60</td>\n",
       "      <td>2.142857</td>\n",
       "      <td>134.216</td>\n",
       "      <td>4.793429</td>\n",
       "      <td>1</td>\n",
       "      <td>4</td>\n",
       "      <td>2.000000</td>\n",
       "      <td>1.600</td>\n",
       "      <td>0.800000</td>\n",
       "    </tr>\n",
       "    <tr>\n",
       "      <th>5</th>\n",
       "      <td>17</td>\n",
       "      <td>82</td>\n",
       "      <td>53</td>\n",
       "      <td>104</td>\n",
       "      <td>819</td>\n",
       "      <td>2.127273</td>\n",
       "      <td>4988.892</td>\n",
       "      <td>12.958161</td>\n",
       "      <td>35</td>\n",
       "      <td>71</td>\n",
       "      <td>1.731707</td>\n",
       "      <td>770.920</td>\n",
       "      <td>18.802927</td>\n",
       "    </tr>\n",
       "    <tr>\n",
       "      <th>6</th>\n",
       "      <td>18</td>\n",
       "      <td>60</td>\n",
       "      <td>14</td>\n",
       "      <td>1</td>\n",
       "      <td>1</td>\n",
       "      <td>1.000000</td>\n",
       "      <td>136.752</td>\n",
       "      <td>136.752000</td>\n",
       "      <td>1</td>\n",
       "      <td>5</td>\n",
       "      <td>1.000000</td>\n",
       "      <td>683.760</td>\n",
       "      <td>136.752000</td>\n",
       "    </tr>\n",
       "    <tr>\n",
       "      <th>...</th>\n",
       "      <td>...</td>\n",
       "      <td>...</td>\n",
       "      <td>...</td>\n",
       "      <td>...</td>\n",
       "      <td>...</td>\n",
       "      <td>...</td>\n",
       "      <td>...</td>\n",
       "      <td>...</td>\n",
       "      <td>...</td>\n",
       "      <td>...</td>\n",
       "      <td>...</td>\n",
       "      <td>...</td>\n",
       "      <td>...</td>\n",
       "    </tr>\n",
       "    <tr>\n",
       "      <th>92225</th>\n",
       "      <td>260504</td>\n",
       "      <td>85</td>\n",
       "      <td>12</td>\n",
       "      <td>16</td>\n",
       "      <td>76</td>\n",
       "      <td>1.727273</td>\n",
       "      <td>491.532</td>\n",
       "      <td>11.171182</td>\n",
       "      <td>11</td>\n",
       "      <td>40</td>\n",
       "      <td>2.500000</td>\n",
       "      <td>980.276</td>\n",
       "      <td>61.267250</td>\n",
       "    </tr>\n",
       "    <tr>\n",
       "      <th>92226</th>\n",
       "      <td>260507</td>\n",
       "      <td>64</td>\n",
       "      <td>69</td>\n",
       "      <td>1</td>\n",
       "      <td>6</td>\n",
       "      <td>3.000000</td>\n",
       "      <td>271.836</td>\n",
       "      <td>135.918000</td>\n",
       "      <td>1</td>\n",
       "      <td>9</td>\n",
       "      <td>1.500000</td>\n",
       "      <td>139.016</td>\n",
       "      <td>23.169333</td>\n",
       "    </tr>\n",
       "    <tr>\n",
       "      <th>92227</th>\n",
       "      <td>260509</td>\n",
       "      <td>84</td>\n",
       "      <td>12</td>\n",
       "      <td>18</td>\n",
       "      <td>131</td>\n",
       "      <td>2.425926</td>\n",
       "      <td>1064.088</td>\n",
       "      <td>19.705333</td>\n",
       "      <td>21</td>\n",
       "      <td>261</td>\n",
       "      <td>2.088000</td>\n",
       "      <td>5522.060</td>\n",
       "      <td>44.176480</td>\n",
       "    </tr>\n",
       "    <tr>\n",
       "      <th>92228</th>\n",
       "      <td>260510</td>\n",
       "      <td>58</td>\n",
       "      <td>43</td>\n",
       "      <td>1</td>\n",
       "      <td>2</td>\n",
       "      <td>2.000000</td>\n",
       "      <td>2.196</td>\n",
       "      <td>2.196000</td>\n",
       "      <td>1</td>\n",
       "      <td>3</td>\n",
       "      <td>1.000000</td>\n",
       "      <td>220.760</td>\n",
       "      <td>73.586667</td>\n",
       "    </tr>\n",
       "    <tr>\n",
       "      <th>92229</th>\n",
       "      <td>260511</td>\n",
       "      <td>84</td>\n",
       "      <td>12</td>\n",
       "      <td>6</td>\n",
       "      <td>17</td>\n",
       "      <td>1.545455</td>\n",
       "      <td>241.916</td>\n",
       "      <td>21.992364</td>\n",
       "      <td>2</td>\n",
       "      <td>8</td>\n",
       "      <td>2.000000</td>\n",
       "      <td>174.400</td>\n",
       "      <td>43.600000</td>\n",
       "    </tr>\n",
       "  </tbody>\n",
       "</table>\n",
       "<p>62003 rows × 13 columns</p>\n",
       "</div>"
      ],
      "text/plain": [
       "       hash_inn  region  okved2  uniq_contr_in  tot_count_in  mean_count_in  \\\n",
       "2             5      85      14              4            28       2.000000   \n",
       "3             7      18      12              5             8       1.142857   \n",
       "4            10      85      14              9            60       2.142857   \n",
       "5            17      82      53            104           819       2.127273   \n",
       "6            18      60      14              1             1       1.000000   \n",
       "...         ...     ...     ...            ...           ...            ...   \n",
       "92225    260504      85      12             16            76       1.727273   \n",
       "92226    260507      64      69              1             6       3.000000   \n",
       "92227    260509      84      12             18           131       2.425926   \n",
       "92228    260510      58      43              1             2       2.000000   \n",
       "92229    260511      84      12              6            17       1.545455   \n",
       "\n",
       "       tot_sum_in  mean_sum_in  uniq_contr_out  tot_count_out  mean_count_out  \\\n",
       "2         123.400     8.814286               3             40        1.904762   \n",
       "3         371.348    53.049714               2             17        1.062500   \n",
       "4         134.216     4.793429               1              4        2.000000   \n",
       "5        4988.892    12.958161              35             71        1.731707   \n",
       "6         136.752   136.752000               1              5        1.000000   \n",
       "...           ...          ...             ...            ...             ...   \n",
       "92225     491.532    11.171182              11             40        2.500000   \n",
       "92226     271.836   135.918000               1              9        1.500000   \n",
       "92227    1064.088    19.705333              21            261        2.088000   \n",
       "92228       2.196     2.196000               1              3        1.000000   \n",
       "92229     241.916    21.992364               2              8        2.000000   \n",
       "\n",
       "       tot_sum_out  mean_sum_out  \n",
       "2          272.288     12.966095  \n",
       "3          603.376     37.711000  \n",
       "4            1.600      0.800000  \n",
       "5          770.920     18.802927  \n",
       "6          683.760    136.752000  \n",
       "...            ...           ...  \n",
       "92225      980.276     61.267250  \n",
       "92226      139.016     23.169333  \n",
       "92227     5522.060     44.176480  \n",
       "92228      220.760     73.586667  \n",
       "92229      174.400     43.600000  \n",
       "\n",
       "[62003 rows x 13 columns]"
      ]
     },
     "execution_count": 85,
     "metadata": {},
     "output_type": "execute_result"
    }
   ],
   "source": [
    "train_test_df"
   ]
  },
  {
   "cell_type": "code",
   "execution_count": 86,
   "metadata": {},
   "outputs": [
    {
     "data": {
      "text/html": [
       "<div>\n",
       "<style scoped>\n",
       "    .dataframe tbody tr th:only-of-type {\n",
       "        vertical-align: middle;\n",
       "    }\n",
       "\n",
       "    .dataframe tbody tr th {\n",
       "        vertical-align: top;\n",
       "    }\n",
       "\n",
       "    .dataframe thead th {\n",
       "        text-align: right;\n",
       "    }\n",
       "</style>\n",
       "<table border=\"1\" class=\"dataframe\">\n",
       "  <thead>\n",
       "    <tr style=\"text-align: right;\">\n",
       "      <th></th>\n",
       "      <th>hash_inn</th>\n",
       "      <th>region</th>\n",
       "      <th>uniq_contr_in</th>\n",
       "      <th>tot_count_in</th>\n",
       "      <th>mean_count_in</th>\n",
       "      <th>tot_sum_in</th>\n",
       "      <th>mean_sum_in</th>\n",
       "      <th>uniq_contr_out</th>\n",
       "      <th>tot_count_out</th>\n",
       "      <th>mean_count_out</th>\n",
       "      <th>tot_sum_out</th>\n",
       "      <th>mean_sum_out</th>\n",
       "    </tr>\n",
       "  </thead>\n",
       "  <tbody>\n",
       "    <tr>\n",
       "      <th>0</th>\n",
       "      <td>0</td>\n",
       "      <td>84</td>\n",
       "      <td>124</td>\n",
       "      <td>629</td>\n",
       "      <td>1.839181</td>\n",
       "      <td>9571.260</td>\n",
       "      <td>27.986140</td>\n",
       "      <td>19</td>\n",
       "      <td>57</td>\n",
       "      <td>1.900000</td>\n",
       "      <td>1613.672</td>\n",
       "      <td>53.789067</td>\n",
       "    </tr>\n",
       "    <tr>\n",
       "      <th>1</th>\n",
       "      <td>2</td>\n",
       "      <td>58</td>\n",
       "      <td>1</td>\n",
       "      <td>18</td>\n",
       "      <td>2.250000</td>\n",
       "      <td>293.212</td>\n",
       "      <td>36.651500</td>\n",
       "      <td>3</td>\n",
       "      <td>5</td>\n",
       "      <td>1.666667</td>\n",
       "      <td>36.240</td>\n",
       "      <td>12.080000</td>\n",
       "    </tr>\n",
       "    <tr>\n",
       "      <th>7</th>\n",
       "      <td>19</td>\n",
       "      <td>60</td>\n",
       "      <td>1</td>\n",
       "      <td>1</td>\n",
       "      <td>1.000000</td>\n",
       "      <td>1.164</td>\n",
       "      <td>1.164000</td>\n",
       "      <td>28</td>\n",
       "      <td>197</td>\n",
       "      <td>1.950495</td>\n",
       "      <td>433.580</td>\n",
       "      <td>4.292871</td>\n",
       "    </tr>\n",
       "    <tr>\n",
       "      <th>15</th>\n",
       "      <td>43</td>\n",
       "      <td>84</td>\n",
       "      <td>74</td>\n",
       "      <td>291</td>\n",
       "      <td>1.419512</td>\n",
       "      <td>1757.748</td>\n",
       "      <td>8.574380</td>\n",
       "      <td>13</td>\n",
       "      <td>78</td>\n",
       "      <td>1.695652</td>\n",
       "      <td>932.432</td>\n",
       "      <td>20.270261</td>\n",
       "    </tr>\n",
       "    <tr>\n",
       "      <th>21</th>\n",
       "      <td>60</td>\n",
       "      <td>80</td>\n",
       "      <td>3</td>\n",
       "      <td>18</td>\n",
       "      <td>2.250000</td>\n",
       "      <td>75.744</td>\n",
       "      <td>9.468000</td>\n",
       "      <td>1</td>\n",
       "      <td>1</td>\n",
       "      <td>1.000000</td>\n",
       "      <td>1.600</td>\n",
       "      <td>1.600000</td>\n",
       "    </tr>\n",
       "    <tr>\n",
       "      <th>...</th>\n",
       "      <td>...</td>\n",
       "      <td>...</td>\n",
       "      <td>...</td>\n",
       "      <td>...</td>\n",
       "      <td>...</td>\n",
       "      <td>...</td>\n",
       "      <td>...</td>\n",
       "      <td>...</td>\n",
       "      <td>...</td>\n",
       "      <td>...</td>\n",
       "      <td>...</td>\n",
       "      <td>...</td>\n",
       "    </tr>\n",
       "    <tr>\n",
       "      <th>92211</th>\n",
       "      <td>260474</td>\n",
       "      <td>60</td>\n",
       "      <td>1</td>\n",
       "      <td>2</td>\n",
       "      <td>1.000000</td>\n",
       "      <td>260.024</td>\n",
       "      <td>130.012000</td>\n",
       "      <td>2</td>\n",
       "      <td>6</td>\n",
       "      <td>2.000000</td>\n",
       "      <td>120.460</td>\n",
       "      <td>40.153333</td>\n",
       "    </tr>\n",
       "    <tr>\n",
       "      <th>92212</th>\n",
       "      <td>260475</td>\n",
       "      <td>73</td>\n",
       "      <td>3</td>\n",
       "      <td>34</td>\n",
       "      <td>2.000000</td>\n",
       "      <td>199.484</td>\n",
       "      <td>11.734353</td>\n",
       "      <td>6</td>\n",
       "      <td>71</td>\n",
       "      <td>1.577778</td>\n",
       "      <td>1367.732</td>\n",
       "      <td>30.394044</td>\n",
       "    </tr>\n",
       "    <tr>\n",
       "      <th>92213</th>\n",
       "      <td>260476</td>\n",
       "      <td>80</td>\n",
       "      <td>5</td>\n",
       "      <td>12</td>\n",
       "      <td>2.000000</td>\n",
       "      <td>210.836</td>\n",
       "      <td>35.139333</td>\n",
       "      <td>1</td>\n",
       "      <td>2</td>\n",
       "      <td>2.000000</td>\n",
       "      <td>48.904</td>\n",
       "      <td>48.904000</td>\n",
       "    </tr>\n",
       "    <tr>\n",
       "      <th>92214</th>\n",
       "      <td>260483</td>\n",
       "      <td>84</td>\n",
       "      <td>4</td>\n",
       "      <td>10</td>\n",
       "      <td>1.428571</td>\n",
       "      <td>173.744</td>\n",
       "      <td>24.820571</td>\n",
       "      <td>6</td>\n",
       "      <td>18</td>\n",
       "      <td>1.200000</td>\n",
       "      <td>680.400</td>\n",
       "      <td>45.360000</td>\n",
       "    </tr>\n",
       "    <tr>\n",
       "      <th>92215</th>\n",
       "      <td>260484</td>\n",
       "      <td>39</td>\n",
       "      <td>6</td>\n",
       "      <td>57</td>\n",
       "      <td>1.965517</td>\n",
       "      <td>1000.116</td>\n",
       "      <td>34.486759</td>\n",
       "      <td>1</td>\n",
       "      <td>1</td>\n",
       "      <td>1.000000</td>\n",
       "      <td>2.184</td>\n",
       "      <td>2.184000</td>\n",
       "    </tr>\n",
       "  </tbody>\n",
       "</table>\n",
       "<p>30227 rows × 12 columns</p>\n",
       "</div>"
      ],
      "text/plain": [
       "       hash_inn  region  uniq_contr_in  tot_count_in  mean_count_in  \\\n",
       "0             0      84            124           629       1.839181   \n",
       "1             2      58              1            18       2.250000   \n",
       "7            19      60              1             1       1.000000   \n",
       "15           43      84             74           291       1.419512   \n",
       "21           60      80              3            18       2.250000   \n",
       "...         ...     ...            ...           ...            ...   \n",
       "92211    260474      60              1             2       1.000000   \n",
       "92212    260475      73              3            34       2.000000   \n",
       "92213    260476      80              5            12       2.000000   \n",
       "92214    260483      84              4            10       1.428571   \n",
       "92215    260484      39              6            57       1.965517   \n",
       "\n",
       "       tot_sum_in  mean_sum_in  uniq_contr_out  tot_count_out  mean_count_out  \\\n",
       "0        9571.260    27.986140              19             57        1.900000   \n",
       "1         293.212    36.651500               3              5        1.666667   \n",
       "7           1.164     1.164000              28            197        1.950495   \n",
       "15       1757.748     8.574380              13             78        1.695652   \n",
       "21         75.744     9.468000               1              1        1.000000   \n",
       "...           ...          ...             ...            ...             ...   \n",
       "92211     260.024   130.012000               2              6        2.000000   \n",
       "92212     199.484    11.734353               6             71        1.577778   \n",
       "92213     210.836    35.139333               1              2        2.000000   \n",
       "92214     173.744    24.820571               6             18        1.200000   \n",
       "92215    1000.116    34.486759               1              1        1.000000   \n",
       "\n",
       "       tot_sum_out  mean_sum_out  \n",
       "0         1613.672     53.789067  \n",
       "1           36.240     12.080000  \n",
       "7          433.580      4.292871  \n",
       "15         932.432     20.270261  \n",
       "21           1.600      1.600000  \n",
       "...            ...           ...  \n",
       "92211      120.460     40.153333  \n",
       "92212     1367.732     30.394044  \n",
       "92213       48.904     48.904000  \n",
       "92214      680.400     45.360000  \n",
       "92215        2.184      2.184000  \n",
       "\n",
       "[30227 rows x 12 columns]"
      ]
     },
     "execution_count": 86,
     "metadata": {},
     "output_type": "execute_result"
    }
   ],
   "source": [
    "for_predict_df"
   ]
  },
  {
   "cell_type": "markdown",
   "metadata": {},
   "source": [
    "### 3. Предобработка данных, выбор и обучение модели"
   ]
  },
  {
   "cell_type": "code",
   "execution_count": 47,
   "metadata": {},
   "outputs": [],
   "source": [
    "from sklearn.ensemble import HistGradientBoostingClassifier\n",
    "from sklearn.tree import DecisionTreeClassifier\n",
    "from sklearn.svm import SVC\n",
    "from sklearn.neural_network import MLPClassifier\n",
    "\n",
    "from sklearn.preprocessing import StandardScaler\n",
    "from sklearn.preprocessing import OneHotEncoder\n",
    "\n",
    "from sklearn.compose import ColumnTransformer\n",
    "\n",
    "from sklearn.decomposition import TruncatedSVD\n",
    "\n",
    "from sklearn.model_selection import train_test_split\n",
    "from sklearn.model_selection import cross_val_score\n",
    "from sklearn.model_selection import StratifiedKFold\n",
    "from sklearn.model_selection import GridSearchCV\n",
    "\n",
    "from pandas import DataFrame\n",
    "from numpy.typing import ArrayLike\n",
    "\n",
    "RANDOM_STATE = 42"
   ]
  },
  {
   "cell_type": "code",
   "execution_count": 87,
   "metadata": {},
   "outputs": [],
   "source": [
    "# Определим класс для удобного препроцессинга во время обучения и прогноза\n",
    "\n",
    "\n",
    "class Preprocessor:\n",
    "    def preprocess_for_train(\n",
    "        self,\n",
    "        data: DataFrame,\n",
    "        reduce: bool = True,\n",
    "        sigm: float = 0.8,\n",
    "        test_size: float = 0.2,\n",
    "    ) -> list[ArrayLike]:\n",
    "\n",
    "        self.reduce = reduce\n",
    "\n",
    "        numeric_features = [\n",
    "            \"uniq_contr_in\",\n",
    "            \"tot_count_in\",\n",
    "            \"mean_count_in\",\n",
    "            \"tot_sum_in\",\n",
    "            \"mean_sum_in\",\n",
    "            \"uniq_contr_out\",\n",
    "            \"tot_count_out\",\n",
    "            \"mean_count_out\",\n",
    "            \"tot_sum_out\",\n",
    "            \"mean_sum_out\",\n",
    "        ]\n",
    "\n",
    "        categorical_features = [\"region\"]\n",
    "        data = data.drop(columns=[\"hash_inn\"])\n",
    "\n",
    "        ohe = OneHotEncoder(handle_unknown=\"ignore\")\n",
    "        std = StandardScaler()\n",
    "        self.column_transformer = ColumnTransformer(\n",
    "            transformers=[\n",
    "                (\"num\", std, numeric_features),\n",
    "                (\"cat\", ohe, categorical_features),\n",
    "            ]\n",
    "        )\n",
    "\n",
    "        X = data.drop(columns=[\"okved2\"])\n",
    "        Y = data[\"okved2\"]\n",
    "\n",
    "        X_train, X_test, Y_train, Y_test = train_test_split(\n",
    "            X,\n",
    "            Y,\n",
    "            test_size=test_size,\n",
    "            shuffle=True,\n",
    "            random_state=RANDOM_STATE,\n",
    "            stratify=Y,\n",
    "        )\n",
    "\n",
    "        X_train = self.column_transformer.fit_transform(X_train)\n",
    "        X_test = self.column_transformer.transform(X_test)\n",
    "\n",
    "        if self.reduce:\n",
    "            X_train = self.reduce_dim(X_train, sigm=sigm)\n",
    "            X_test = self.opt_reducer.transform(X_test)\n",
    "\n",
    "        return X_train, X_test, Y_train.to_numpy(), Y_test.to_numpy()\n",
    "\n",
    "    def preprocess_for_predict(self, data: DataFrame) -> ArrayLike:\n",
    "        data = data.drop(columns=[\"hash_inn\"])\n",
    "        X = self.column_transformer.transform(data)\n",
    "\n",
    "        if self.reduce:\n",
    "            X = self.opt_reducer.transform(X)\n",
    "\n",
    "        return X\n",
    "\n",
    "    def reduce_dim(self, X, sigm: float = 0.8) -> ArrayLike:\n",
    "        reducer = TruncatedSVD(n_components=X.shape[1], random_state=RANDOM_STATE)\n",
    "        reducer.fit(X)\n",
    "        opt_n_pc = np.count_nonzero(np.cumsum(reducer.explained_variance_ratio_) < sigm)\n",
    "        self.opt_reducer = TruncatedSVD(opt_n_pc, random_state=RANDOM_STATE)\n",
    "\n",
    "        return self.opt_reducer.fit_transform(X)"
   ]
  },
  {
   "cell_type": "code",
   "execution_count": 88,
   "metadata": {},
   "outputs": [],
   "source": [
    "# Инициализируем экземпляр препроцессора и разделим выборку на обучающую и тестовую.\n",
    "# В дальнейшем на этапе прогнозирования этот экземпляр класса можно будет использовать для единообразного преобразования входных данных\n",
    "\n",
    "preproc = Preprocessor()\n",
    "\n",
    "X_train, X_test, Y_train, Y_test = preproc.preprocess_for_train(\n",
    "    train_test_df, sigm=0.95\n",
    ")"
   ]
  },
  {
   "cell_type": "code",
   "execution_count": 89,
   "metadata": {},
   "outputs": [
    {
     "data": {
      "text/plain": [
       "((49602, 11), (12401, 11), (49602,), (12401,))"
      ]
     },
     "execution_count": 89,
     "metadata": {},
     "output_type": "execute_result"
    }
   ],
   "source": [
    "X_train.shape, X_test.shape, Y_train.shape, Y_test.shape"
   ]
  },
  {
   "cell_type": "code",
   "execution_count": 51,
   "metadata": {},
   "outputs": [],
   "source": [
    "# Предварительный выбор алгоритма обучения проведем с настройками по умолчанию на кроссвалидации из 4 алгоритмов:\n",
    "# градиентный бустинг, решающее дерево, метод опорных векторов с ядерным трюком и многослойный перцептрон\n",
    "\n",
    "# В качестве метрики в данной ситуации подойдет accuracy, потому что нет необходимости балансировать модель между полнотой и точностью\n",
    "\n",
    "kf = StratifiedKFold(n_splits=4, shuffle=True, random_state=RANDOM_STATE)\n",
    "\n",
    "gbc = HistGradientBoostingClassifier(random_state=RANDOM_STATE)\n",
    "dtc = DecisionTreeClassifier(random_state=RANDOM_STATE)\n",
    "svc = SVC(random_state=RANDOM_STATE)\n",
    "mlp = MLPClassifier(random_state=RANDOM_STATE)"
   ]
  },
  {
   "cell_type": "code",
   "execution_count": 52,
   "metadata": {},
   "outputs": [],
   "source": [
    "cv_gbc = cross_val_score(gbc, X_train, Y_train, scoring=\"accuracy\", cv=kf, n_jobs=-1)"
   ]
  },
  {
   "cell_type": "code",
   "execution_count": 53,
   "metadata": {},
   "outputs": [],
   "source": [
    "cv_dtc = cross_val_score(dtc, X_train, Y_train, scoring=\"accuracy\", cv=kf, n_jobs=-1)"
   ]
  },
  {
   "cell_type": "code",
   "execution_count": 54,
   "metadata": {},
   "outputs": [],
   "source": [
    "cv_svc = cross_val_score(svc, X_train, Y_train, scoring=\"accuracy\", cv=kf, n_jobs=-1)"
   ]
  },
  {
   "cell_type": "code",
   "execution_count": 55,
   "metadata": {},
   "outputs": [
    {
     "name": "stderr",
     "output_type": "stream",
     "text": [
      "/Library/Frameworks/Python.framework/Versions/3.11/lib/python3.11/site-packages/sklearn/neural_network/_multilayer_perceptron.py:691: ConvergenceWarning: Stochastic Optimizer: Maximum iterations (200) reached and the optimization hasn't converged yet.\n",
      "  warnings.warn(\n",
      "/Library/Frameworks/Python.framework/Versions/3.11/lib/python3.11/site-packages/sklearn/neural_network/_multilayer_perceptron.py:691: ConvergenceWarning: Stochastic Optimizer: Maximum iterations (200) reached and the optimization hasn't converged yet.\n",
      "  warnings.warn(\n",
      "/Library/Frameworks/Python.framework/Versions/3.11/lib/python3.11/site-packages/sklearn/neural_network/_multilayer_perceptron.py:691: ConvergenceWarning: Stochastic Optimizer: Maximum iterations (200) reached and the optimization hasn't converged yet.\n",
      "  warnings.warn(\n",
      "/Library/Frameworks/Python.framework/Versions/3.11/lib/python3.11/site-packages/sklearn/neural_network/_multilayer_perceptron.py:691: ConvergenceWarning: Stochastic Optimizer: Maximum iterations (200) reached and the optimization hasn't converged yet.\n",
      "  warnings.warn(\n"
     ]
    }
   ],
   "source": [
    "cv_mlp = cross_val_score(mlp, X_train, Y_train, scoring=\"accuracy\", cv=kf, n_jobs=-1)"
   ]
  },
  {
   "cell_type": "code",
   "execution_count": 56,
   "metadata": {},
   "outputs": [
    {
     "data": {
      "text/plain": [
       "(0.2385590294487177,\n",
       " 0.13384539260621542,\n",
       " 0.29016975900746816,\n",
       " 0.304665144720379)"
      ]
     },
     "execution_count": 56,
     "metadata": {},
     "output_type": "execute_result"
    }
   ],
   "source": [
    "cv_gbc.mean(), cv_dtc.mean(), cv_svc.mean(), cv_mlp.mean()"
   ]
  },
  {
   "cell_type": "markdown",
   "metadata": {},
   "source": [
    "Прежде, чем выбрать модель для дальнейшей оптимизации следует проверить как повлияет на accuracy моделей балансировка классов"
   ]
  },
  {
   "cell_type": "code",
   "execution_count": 57,
   "metadata": {},
   "outputs": [
    {
     "data": {
      "text/plain": [
       "array([    4,    12,    14,    17,    18,    19,    20,    30,    34,\n",
       "          36,    42,    50,    58,    63,    63,    65,    66,    67,\n",
       "          70,    71,    73,    77,    97,   115,   118,   139,   142,\n",
       "         148,   156,   158,   164,   166,   186,   189,   194,   204,\n",
       "         213,   217,   226,   241,   246,   254,   259,   280,   292,\n",
       "         297,   302,   310,   324,   340,   348,   358,   372,   383,\n",
       "         390,   396,   468,   471,   510,   518,   566,   615,   622,\n",
       "         625,   628,   683,   686,   758,   843,   893,   941,  1003,\n",
       "        1174,  1352,  1770,  2148,  2670,  3086,  3907, 13472])"
      ]
     },
     "execution_count": 57,
     "metadata": {},
     "output_type": "execute_result"
    }
   ],
   "source": [
    "# Распределение образцов по классам до семплирования\n",
    "\n",
    "np.sort(np.bincount(Y_train))"
   ]
  },
  {
   "cell_type": "code",
   "execution_count": 58,
   "metadata": {},
   "outputs": [
    {
     "name": "stderr",
     "output_type": "stream",
     "text": [
      "/Library/Frameworks/Python.framework/Versions/3.11/lib/python3.11/site-packages/imblearn/over_sampling/_smote/base.py:363: FutureWarning: The parameter `n_jobs` has been deprecated in 0.10 and will be removed in 0.12. You can pass an nearest neighbors estimator where `n_jobs` is already set instead.\n",
      "  warnings.warn(\n"
     ]
    }
   ],
   "source": [
    "# Для балансировки классов одновременно применим under_sampling для мажоритарных классов и over_sampling для миноритарных классов\n",
    "\n",
    "from imblearn.over_sampling import SMOTE\n",
    "from imblearn.under_sampling import EditedNearestNeighbours\n",
    "\n",
    "maj_list = np.where(np.bincount(Y_train) > 10000)[0].tolist()\n",
    "min_list = np.where(np.bincount(Y_train) < 1000)[0].tolist()\n",
    "\n",
    "undersamp = EditedNearestNeighbours(sampling_strategy=maj_list, n_neighbors=3, kind_sel='mode', n_jobs=-1)\n",
    "oversamp = SMOTE(sampling_strategy={k: 1100 for k in min_list}, k_neighbors=3, n_jobs=-1, random_state=RANDOM_STATE)\n",
    "X_resamp, Y_resamp = undersamp.fit_resample(X_train, Y_train)\n",
    "X_resamp, Y_resamp = oversamp.fit_resample(X_resamp, Y_resamp)"
   ]
  },
  {
   "cell_type": "code",
   "execution_count": 59,
   "metadata": {},
   "outputs": [
    {
     "data": {
      "text/plain": [
       "array([1003, 1100, 1100, 1100, 1100, 1100, 1100, 1100, 1100, 1100, 1100,\n",
       "       1100, 1100, 1100, 1100, 1100, 1100, 1100, 1100, 1100, 1100, 1100,\n",
       "       1100, 1100, 1100, 1100, 1100, 1100, 1100, 1100, 1100, 1100, 1100,\n",
       "       1100, 1100, 1100, 1100, 1100, 1100, 1100, 1100, 1100, 1100, 1100,\n",
       "       1100, 1100, 1100, 1100, 1100, 1100, 1100, 1100, 1100, 1100, 1100,\n",
       "       1100, 1100, 1100, 1100, 1100, 1100, 1100, 1100, 1100, 1100, 1100,\n",
       "       1100, 1100, 1100, 1100, 1100, 1100, 1174, 1352, 1770, 2148, 2670,\n",
       "       3086, 3907, 6859])"
      ]
     },
     "execution_count": 59,
     "metadata": {},
     "output_type": "execute_result"
    }
   ],
   "source": [
    "# Распределение образцов по классам после семплирования\n",
    "\n",
    "np.sort(np.bincount(Y_resamp))"
   ]
  },
  {
   "cell_type": "code",
   "execution_count": 60,
   "metadata": {},
   "outputs": [
    {
     "data": {
      "text/plain": [
       "102069"
      ]
     },
     "execution_count": 60,
     "metadata": {},
     "output_type": "execute_result"
    }
   ],
   "source": [
    "# Общее число образцов\n",
    "\n",
    "Y_resamp.shape[0]"
   ]
  },
  {
   "cell_type": "code",
   "execution_count": 61,
   "metadata": {},
   "outputs": [],
   "source": [
    "# Оценим метрику на сбалансированном наборе"
   ]
  },
  {
   "cell_type": "code",
   "execution_count": 62,
   "metadata": {},
   "outputs": [],
   "source": [
    "cv_gbc = cross_val_score(gbc, X_resamp, Y_resamp, scoring=\"accuracy\", cv=kf, n_jobs=-1)"
   ]
  },
  {
   "cell_type": "code",
   "execution_count": 63,
   "metadata": {},
   "outputs": [],
   "source": [
    "cv_dtc = cross_val_score(dtc, X_resamp, Y_resamp, scoring=\"accuracy\", cv=kf, n_jobs=-1)"
   ]
  },
  {
   "cell_type": "code",
   "execution_count": 64,
   "metadata": {},
   "outputs": [],
   "source": [
    "cv_svc = cross_val_score(svc, X_resamp, Y_resamp, scoring=\"accuracy\", cv=kf, n_jobs=-1)"
   ]
  },
  {
   "cell_type": "code",
   "execution_count": 65,
   "metadata": {},
   "outputs": [
    {
     "name": "stderr",
     "output_type": "stream",
     "text": [
      "/Library/Frameworks/Python.framework/Versions/3.11/lib/python3.11/site-packages/sklearn/neural_network/_multilayer_perceptron.py:691: ConvergenceWarning: Stochastic Optimizer: Maximum iterations (200) reached and the optimization hasn't converged yet.\n",
      "  warnings.warn(\n",
      "/Library/Frameworks/Python.framework/Versions/3.11/lib/python3.11/site-packages/sklearn/neural_network/_multilayer_perceptron.py:691: ConvergenceWarning: Stochastic Optimizer: Maximum iterations (200) reached and the optimization hasn't converged yet.\n",
      "  warnings.warn(\n",
      "/Library/Frameworks/Python.framework/Versions/3.11/lib/python3.11/site-packages/sklearn/neural_network/_multilayer_perceptron.py:691: ConvergenceWarning: Stochastic Optimizer: Maximum iterations (200) reached and the optimization hasn't converged yet.\n",
      "  warnings.warn(\n",
      "/Library/Frameworks/Python.framework/Versions/3.11/lib/python3.11/site-packages/sklearn/neural_network/_multilayer_perceptron.py:691: ConvergenceWarning: Stochastic Optimizer: Maximum iterations (200) reached and the optimization hasn't converged yet.\n",
      "  warnings.warn(\n"
     ]
    }
   ],
   "source": [
    "cv_mlp = cross_val_score(mlp, X_resamp, Y_resamp, scoring=\"accuracy\", cv=kf, n_jobs=-1)"
   ]
  },
  {
   "cell_type": "code",
   "execution_count": 66,
   "metadata": {},
   "outputs": [
    {
     "data": {
      "text/plain": [
       "(0.38447524558844626,\n",
       " 0.4407116597246104,\n",
       " 0.17949623941633475,\n",
       " 0.25356376969632066)"
      ]
     },
     "execution_count": 66,
     "metadata": {},
     "output_type": "execute_result"
    }
   ],
   "source": [
    "cv_gbc.mean(), cv_dtc.mean(), cv_svc.mean(), cv_mlp.mean()"
   ]
  },
  {
   "cell_type": "code",
   "execution_count": 67,
   "metadata": {},
   "outputs": [
    {
     "data": {
      "text/html": [
       "<style>#sk-container-id-1 {color: black;}#sk-container-id-1 pre{padding: 0;}#sk-container-id-1 div.sk-toggleable {background-color: white;}#sk-container-id-1 label.sk-toggleable__label {cursor: pointer;display: block;width: 100%;margin-bottom: 0;padding: 0.3em;box-sizing: border-box;text-align: center;}#sk-container-id-1 label.sk-toggleable__label-arrow:before {content: \"▸\";float: left;margin-right: 0.25em;color: #696969;}#sk-container-id-1 label.sk-toggleable__label-arrow:hover:before {color: black;}#sk-container-id-1 div.sk-estimator:hover label.sk-toggleable__label-arrow:before {color: black;}#sk-container-id-1 div.sk-toggleable__content {max-height: 0;max-width: 0;overflow: hidden;text-align: left;background-color: #f0f8ff;}#sk-container-id-1 div.sk-toggleable__content pre {margin: 0.2em;color: black;border-radius: 0.25em;background-color: #f0f8ff;}#sk-container-id-1 input.sk-toggleable__control:checked~div.sk-toggleable__content {max-height: 200px;max-width: 100%;overflow: auto;}#sk-container-id-1 input.sk-toggleable__control:checked~label.sk-toggleable__label-arrow:before {content: \"▾\";}#sk-container-id-1 div.sk-estimator input.sk-toggleable__control:checked~label.sk-toggleable__label {background-color: #d4ebff;}#sk-container-id-1 div.sk-label input.sk-toggleable__control:checked~label.sk-toggleable__label {background-color: #d4ebff;}#sk-container-id-1 input.sk-hidden--visually {border: 0;clip: rect(1px 1px 1px 1px);clip: rect(1px, 1px, 1px, 1px);height: 1px;margin: -1px;overflow: hidden;padding: 0;position: absolute;width: 1px;}#sk-container-id-1 div.sk-estimator {font-family: monospace;background-color: #f0f8ff;border: 1px dotted black;border-radius: 0.25em;box-sizing: border-box;margin-bottom: 0.5em;}#sk-container-id-1 div.sk-estimator:hover {background-color: #d4ebff;}#sk-container-id-1 div.sk-parallel-item::after {content: \"\";width: 100%;border-bottom: 1px solid gray;flex-grow: 1;}#sk-container-id-1 div.sk-label:hover label.sk-toggleable__label {background-color: #d4ebff;}#sk-container-id-1 div.sk-serial::before {content: \"\";position: absolute;border-left: 1px solid gray;box-sizing: border-box;top: 0;bottom: 0;left: 50%;z-index: 0;}#sk-container-id-1 div.sk-serial {display: flex;flex-direction: column;align-items: center;background-color: white;padding-right: 0.2em;padding-left: 0.2em;position: relative;}#sk-container-id-1 div.sk-item {position: relative;z-index: 1;}#sk-container-id-1 div.sk-parallel {display: flex;align-items: stretch;justify-content: center;background-color: white;position: relative;}#sk-container-id-1 div.sk-item::before, #sk-container-id-1 div.sk-parallel-item::before {content: \"\";position: absolute;border-left: 1px solid gray;box-sizing: border-box;top: 0;bottom: 0;left: 50%;z-index: -1;}#sk-container-id-1 div.sk-parallel-item {display: flex;flex-direction: column;z-index: 1;position: relative;background-color: white;}#sk-container-id-1 div.sk-parallel-item:first-child::after {align-self: flex-end;width: 50%;}#sk-container-id-1 div.sk-parallel-item:last-child::after {align-self: flex-start;width: 50%;}#sk-container-id-1 div.sk-parallel-item:only-child::after {width: 0;}#sk-container-id-1 div.sk-dashed-wrapped {border: 1px dashed gray;margin: 0 0.4em 0.5em 0.4em;box-sizing: border-box;padding-bottom: 0.4em;background-color: white;}#sk-container-id-1 div.sk-label label {font-family: monospace;font-weight: bold;display: inline-block;line-height: 1.2em;}#sk-container-id-1 div.sk-label-container {text-align: center;}#sk-container-id-1 div.sk-container {/* jupyter's `normalize.less` sets `[hidden] { display: none; }` but bootstrap.min.css set `[hidden] { display: none !important; }` so we also need the `!important` here to be able to override the default hidden behavior on the sphinx rendered scikit-learn.org. See: https://github.com/scikit-learn/scikit-learn/issues/21755 */display: inline-block !important;position: relative;}#sk-container-id-1 div.sk-text-repr-fallback {display: none;}</style><div id=\"sk-container-id-1\" class=\"sk-top-container\"><div class=\"sk-text-repr-fallback\"><pre>DecisionTreeClassifier(random_state=42)</pre><b>In a Jupyter environment, please rerun this cell to show the HTML representation or trust the notebook. <br />On GitHub, the HTML representation is unable to render, please try loading this page with nbviewer.org.</b></div><div class=\"sk-container\" hidden><div class=\"sk-item\"><div class=\"sk-estimator sk-toggleable\"><input class=\"sk-toggleable__control sk-hidden--visually\" id=\"sk-estimator-id-1\" type=\"checkbox\" checked><label for=\"sk-estimator-id-1\" class=\"sk-toggleable__label sk-toggleable__label-arrow\">DecisionTreeClassifier</label><div class=\"sk-toggleable__content\"><pre>DecisionTreeClassifier(random_state=42)</pre></div></div></div></div></div>"
      ],
      "text/plain": [
       "DecisionTreeClassifier(random_state=42)"
      ]
     },
     "execution_count": 67,
     "metadata": {},
     "output_type": "execute_result"
    }
   ],
   "source": [
    "from sklearn.metrics import accuracy_score\n",
    "\n",
    "gbc.fit(X_resamp, Y_resamp)\n",
    "dtc.fit(X_resamp, Y_resamp)"
   ]
  },
  {
   "cell_type": "code",
   "execution_count": 68,
   "metadata": {},
   "outputs": [
    {
     "data": {
      "text/plain": [
       "(0.13571486170470123, 0.09015401983710991)"
      ]
     },
     "execution_count": 68,
     "metadata": {},
     "output_type": "execute_result"
    }
   ],
   "source": [
    "accuracy_score(Y_test, gbc.predict(X_test)), accuracy_score(Y_test, dtc.predict(X_test))"
   ]
  },
  {
   "cell_type": "markdown",
   "metadata": {},
   "source": [
    "На первый взгляд кажется, что балансировка классов помогает улучшит качество некоторых моделей. Однако, при проверке на отложенной выборке видно, что балансировка (по крайней мере в данном виде) не сохраняет паттерны исходного набора. При этом для моделей MLP и SVM качество на кросвалидации пдает, по сравнению с несбалансирвоанным датасетом"
   ]
  },
  {
   "cell_type": "markdown",
   "metadata": {},
   "source": [
    "В базовой конфигурации лучшее качество на кроссвалидации показал перцептрон. Возьмем эту модель для дальнейшей оптимизации. Выборку оставим несбалансированной"
   ]
  },
  {
   "cell_type": "code",
   "execution_count": 69,
   "metadata": {},
   "outputs": [
    {
     "data": {
      "image/png": "[encoded data removed]",
      "text/plain": [
       "<Figure size 640x480 with 1 Axes>"
      ]
     },
     "metadata": {},
     "output_type": "display_data"
    }
   ],
   "source": [
    "# Построим график оптимизации перцептрона\n",
    "\n",
    "mlp = MLPClassifier(max_iter=500, shuffle=True, random_state=RANDOM_STATE)\n",
    "\n",
    "mlp.fit(X_train, Y_train)\n",
    "\n",
    "plt.plot(range(mlp.n_iter_), mlp.loss_curve_, c='b')\n",
    "plt.xlabel('n_iter')\n",
    "plt.ylabel('loss')\n",
    "plt.show()"
   ]
  },
  {
   "cell_type": "code",
   "execution_count": 70,
   "metadata": {},
   "outputs": [
    {
     "data": {
      "text/plain": [
       "97"
      ]
     },
     "execution_count": 70,
     "metadata": {},
     "output_type": "execute_result"
    }
   ],
   "source": [
    "mlp = MLPClassifier(random_state=RANDOM_STATE, early_stopping=True, shuffle=True)\n",
    "mlp.fit(X_train, Y_train)\n",
    "mlp.n_iter_"
   ]
  },
  {
   "cell_type": "markdown",
   "metadata": {},
   "source": [
    "При стандартной настройке алгоритма оптимизации сходимость наступает примерно после 300 итераций. Однако, качество на валидации перестает значимо меняться уже после 97 итераций."
   ]
  },
  {
   "cell_type": "code",
   "execution_count": 71,
   "metadata": {},
   "outputs": [
    {
     "data": {
      "text/plain": [
       "0.16717392246537816"
      ]
     },
     "execution_count": 71,
     "metadata": {},
     "output_type": "execute_result"
    }
   ],
   "source": [
    "# Качество модели без мажоритарного класса\n",
    "cross_val_score(\n",
    "    mlp, X_train[Y_train != 12], Y_train[Y_train != 12], cv=kf, n_jobs=-1\n",
    ").mean()"
   ]
  },
  {
   "cell_type": "code",
   "execution_count": 72,
   "metadata": {},
   "outputs": [],
   "source": [
    "# Попробуем улучшить качество модели, подобрав параметры с помощью решетчатого поиска\n",
    "\n",
    "param_grid = {\n",
    "    \"hidden_layer_sizes\": [(200), (300), (100, 100)],\n",
    "    \"activation\": [\"logistic\", \"tanh\"],\n",
    "    \"batch_size\": [100, 200],\n",
    "}\n",
    "\n",
    "gs = GridSearchCV(\n",
    "    mlp,\n",
    "    param_grid=param_grid,\n",
    "    scoring=\"accuracy\",\n",
    "    n_jobs=-1,\n",
    "    cv=kf,\n",
    "    return_train_score=True,\n",
    "    verbose=1\n",
    ")"
   ]
  },
  {
   "cell_type": "code",
   "execution_count": 73,
   "metadata": {},
   "outputs": [
    {
     "name": "stdout",
     "output_type": "stream",
     "text": [
      "Fitting 4 folds for each of 12 candidates, totalling 48 fits\n"
     ]
    },
    {
     "data": {
      "text/html": [
       "<style>#sk-container-id-2 {color: black;}#sk-container-id-2 pre{padding: 0;}#sk-container-id-2 div.sk-toggleable {background-color: white;}#sk-container-id-2 label.sk-toggleable__label {cursor: pointer;display: block;width: 100%;margin-bottom: 0;padding: 0.3em;box-sizing: border-box;text-align: center;}#sk-container-id-2 label.sk-toggleable__label-arrow:before {content: \"▸\";float: left;margin-right: 0.25em;color: #696969;}#sk-container-id-2 label.sk-toggleable__label-arrow:hover:before {color: black;}#sk-container-id-2 div.sk-estimator:hover label.sk-toggleable__label-arrow:before {color: black;}#sk-container-id-2 div.sk-toggleable__content {max-height: 0;max-width: 0;overflow: hidden;text-align: left;background-color: #f0f8ff;}#sk-container-id-2 div.sk-toggleable__content pre {margin: 0.2em;color: black;border-radius: 0.25em;background-color: #f0f8ff;}#sk-container-id-2 input.sk-toggleable__control:checked~div.sk-toggleable__content {max-height: 200px;max-width: 100%;overflow: auto;}#sk-container-id-2 input.sk-toggleable__control:checked~label.sk-toggleable__label-arrow:before {content: \"▾\";}#sk-container-id-2 div.sk-estimator input.sk-toggleable__control:checked~label.sk-toggleable__label {background-color: #d4ebff;}#sk-container-id-2 div.sk-label input.sk-toggleable__control:checked~label.sk-toggleable__label {background-color: #d4ebff;}#sk-container-id-2 input.sk-hidden--visually {border: 0;clip: rect(1px 1px 1px 1px);clip: rect(1px, 1px, 1px, 1px);height: 1px;margin: -1px;overflow: hidden;padding: 0;position: absolute;width: 1px;}#sk-container-id-2 div.sk-estimator {font-family: monospace;background-color: #f0f8ff;border: 1px dotted black;border-radius: 0.25em;box-sizing: border-box;margin-bottom: 0.5em;}#sk-container-id-2 div.sk-estimator:hover {background-color: #d4ebff;}#sk-container-id-2 div.sk-parallel-item::after {content: \"\";width: 100%;border-bottom: 1px solid gray;flex-grow: 1;}#sk-container-id-2 div.sk-label:hover label.sk-toggleable__label {background-color: #d4ebff;}#sk-container-id-2 div.sk-serial::before {content: \"\";position: absolute;border-left: 1px solid gray;box-sizing: border-box;top: 0;bottom: 0;left: 50%;z-index: 0;}#sk-container-id-2 div.sk-serial {display: flex;flex-direction: column;align-items: center;background-color: white;padding-right: 0.2em;padding-left: 0.2em;position: relative;}#sk-container-id-2 div.sk-item {position: relative;z-index: 1;}#sk-container-id-2 div.sk-parallel {display: flex;align-items: stretch;justify-content: center;background-color: white;position: relative;}#sk-container-id-2 div.sk-item::before, #sk-container-id-2 div.sk-parallel-item::before {content: \"\";position: absolute;border-left: 1px solid gray;box-sizing: border-box;top: 0;bottom: 0;left: 50%;z-index: -1;}#sk-container-id-2 div.sk-parallel-item {display: flex;flex-direction: column;z-index: 1;position: relative;background-color: white;}#sk-container-id-2 div.sk-parallel-item:first-child::after {align-self: flex-end;width: 50%;}#sk-container-id-2 div.sk-parallel-item:last-child::after {align-self: flex-start;width: 50%;}#sk-container-id-2 div.sk-parallel-item:only-child::after {width: 0;}#sk-container-id-2 div.sk-dashed-wrapped {border: 1px dashed gray;margin: 0 0.4em 0.5em 0.4em;box-sizing: border-box;padding-bottom: 0.4em;background-color: white;}#sk-container-id-2 div.sk-label label {font-family: monospace;font-weight: bold;display: inline-block;line-height: 1.2em;}#sk-container-id-2 div.sk-label-container {text-align: center;}#sk-container-id-2 div.sk-container {/* jupyter's `normalize.less` sets `[hidden] { display: none; }` but bootstrap.min.css set `[hidden] { display: none !important; }` so we also need the `!important` here to be able to override the default hidden behavior on the sphinx rendered scikit-learn.org. See: https://github.com/scikit-learn/scikit-learn/issues/21755 */display: inline-block !important;position: relative;}#sk-container-id-2 div.sk-text-repr-fallback {display: none;}</style><div id=\"sk-container-id-2\" class=\"sk-top-container\"><div class=\"sk-text-repr-fallback\"><pre>GridSearchCV(cv=StratifiedKFold(n_splits=4, random_state=42, shuffle=True),\n",
       "             estimator=MLPClassifier(early_stopping=True, random_state=42),\n",
       "             n_jobs=-1,\n",
       "             param_grid={&#x27;activation&#x27;: [&#x27;logistic&#x27;, &#x27;tanh&#x27;],\n",
       "                         &#x27;batch_size&#x27;: [100, 200],\n",
       "                         &#x27;hidden_layer_sizes&#x27;: [200, 300, (100, 100)]},\n",
       "             return_train_score=True, scoring=&#x27;accuracy&#x27;, verbose=1)</pre><b>In a Jupyter environment, please rerun this cell to show the HTML representation or trust the notebook. <br />On GitHub, the HTML representation is unable to render, please try loading this page with nbviewer.org.</b></div><div class=\"sk-container\" hidden><div class=\"sk-item sk-dashed-wrapped\"><div class=\"sk-label-container\"><div class=\"sk-label sk-toggleable\"><input class=\"sk-toggleable__control sk-hidden--visually\" id=\"sk-estimator-id-2\" type=\"checkbox\" ><label for=\"sk-estimator-id-2\" class=\"sk-toggleable__label sk-toggleable__label-arrow\">GridSearchCV</label><div class=\"sk-toggleable__content\"><pre>GridSearchCV(cv=StratifiedKFold(n_splits=4, random_state=42, shuffle=True),\n",
       "             estimator=MLPClassifier(early_stopping=True, random_state=42),\n",
       "             n_jobs=-1,\n",
       "             param_grid={&#x27;activation&#x27;: [&#x27;logistic&#x27;, &#x27;tanh&#x27;],\n",
       "                         &#x27;batch_size&#x27;: [100, 200],\n",
       "                         &#x27;hidden_layer_sizes&#x27;: [200, 300, (100, 100)]},\n",
       "             return_train_score=True, scoring=&#x27;accuracy&#x27;, verbose=1)</pre></div></div></div><div class=\"sk-parallel\"><div class=\"sk-parallel-item\"><div class=\"sk-item\"><div class=\"sk-label-container\"><div class=\"sk-label sk-toggleable\"><input class=\"sk-toggleable__control sk-hidden--visually\" id=\"sk-estimator-id-3\" type=\"checkbox\" ><label for=\"sk-estimator-id-3\" class=\"sk-toggleable__label sk-toggleable__label-arrow\">estimator: MLPClassifier</label><div class=\"sk-toggleable__content\"><pre>MLPClassifier(early_stopping=True, random_state=42)</pre></div></div></div><div class=\"sk-serial\"><div class=\"sk-item\"><div class=\"sk-estimator sk-toggleable\"><input class=\"sk-toggleable__control sk-hidden--visually\" id=\"sk-estimator-id-4\" type=\"checkbox\" ><label for=\"sk-estimator-id-4\" class=\"sk-toggleable__label sk-toggleable__label-arrow\">MLPClassifier</label><div class=\"sk-toggleable__content\"><pre>MLPClassifier(early_stopping=True, random_state=42)</pre></div></div></div></div></div></div></div></div></div></div>"
      ],
      "text/plain": [
       "GridSearchCV(cv=StratifiedKFold(n_splits=4, random_state=42, shuffle=True),\n",
       "             estimator=MLPClassifier(early_stopping=True, random_state=42),\n",
       "             n_jobs=-1,\n",
       "             param_grid={'activation': ['logistic', 'tanh'],\n",
       "                         'batch_size': [100, 200],\n",
       "                         'hidden_layer_sizes': [200, 300, (100, 100)]},\n",
       "             return_train_score=True, scoring='accuracy', verbose=1)"
      ]
     },
     "execution_count": 73,
     "metadata": {},
     "output_type": "execute_result"
    }
   ],
   "source": [
    "gs.fit(X_train, Y_train)"
   ]
  },
  {
   "cell_type": "code",
   "execution_count": 74,
   "metadata": {},
   "outputs": [
    {
     "data": {
      "text/html": [
       "<div>\n",
       "<style scoped>\n",
       "    .dataframe tbody tr th:only-of-type {\n",
       "        vertical-align: middle;\n",
       "    }\n",
       "\n",
       "    .dataframe tbody tr th {\n",
       "        vertical-align: top;\n",
       "    }\n",
       "\n",
       "    .dataframe thead th {\n",
       "        text-align: right;\n",
       "    }\n",
       "</style>\n",
       "<table border=\"1\" class=\"dataframe\">\n",
       "  <thead>\n",
       "    <tr style=\"text-align: right;\">\n",
       "      <th></th>\n",
       "      <th>params</th>\n",
       "      <th>mean_train_score</th>\n",
       "      <th>mean_test_score</th>\n",
       "      <th>delta</th>\n",
       "    </tr>\n",
       "  </thead>\n",
       "  <tbody>\n",
       "    <tr>\n",
       "      <th>11</th>\n",
       "      <td>{'activation': 'tanh', 'batch_size': 200, 'hidden_layer_sizes': (100, 100)}</td>\n",
       "      <td>0.309161</td>\n",
       "      <td>0.305512</td>\n",
       "      <td>0.0</td>\n",
       "    </tr>\n",
       "    <tr>\n",
       "      <th>8</th>\n",
       "      <td>{'activation': 'tanh', 'batch_size': 100, 'hidden_layer_sizes': (100, 100)}</td>\n",
       "      <td>0.310061</td>\n",
       "      <td>0.305089</td>\n",
       "      <td>0.0</td>\n",
       "    </tr>\n",
       "    <tr>\n",
       "      <th>2</th>\n",
       "      <td>{'activation': 'logistic', 'batch_size': 100, 'hidden_layer_sizes': (100, 100)}</td>\n",
       "      <td>0.304477</td>\n",
       "      <td>0.302024</td>\n",
       "      <td>0.0</td>\n",
       "    </tr>\n",
       "    <tr>\n",
       "      <th>0</th>\n",
       "      <td>{'activation': 'logistic', 'batch_size': 100, 'hidden_layer_sizes': 200}</td>\n",
       "      <td>0.302145</td>\n",
       "      <td>0.300351</td>\n",
       "      <td>0.0</td>\n",
       "    </tr>\n",
       "    <tr>\n",
       "      <th>9</th>\n",
       "      <td>{'activation': 'tanh', 'batch_size': 200, 'hidden_layer_sizes': 200}</td>\n",
       "      <td>0.302515</td>\n",
       "      <td>0.300351</td>\n",
       "      <td>0.0</td>\n",
       "    </tr>\n",
       "    <tr>\n",
       "      <th>6</th>\n",
       "      <td>{'activation': 'tanh', 'batch_size': 100, 'hidden_layer_sizes': 200}</td>\n",
       "      <td>0.302589</td>\n",
       "      <td>0.299786</td>\n",
       "      <td>0.0</td>\n",
       "    </tr>\n",
       "    <tr>\n",
       "      <th>5</th>\n",
       "      <td>{'activation': 'logistic', 'batch_size': 200, 'hidden_layer_sizes': (100, 100)}</td>\n",
       "      <td>0.300915</td>\n",
       "      <td>0.299665</td>\n",
       "      <td>0.0</td>\n",
       "    </tr>\n",
       "    <tr>\n",
       "      <th>1</th>\n",
       "      <td>{'activation': 'logistic', 'batch_size': 100, 'hidden_layer_sizes': 300}</td>\n",
       "      <td>0.301540</td>\n",
       "      <td>0.299484</td>\n",
       "      <td>0.0</td>\n",
       "    </tr>\n",
       "    <tr>\n",
       "      <th>10</th>\n",
       "      <td>{'activation': 'tanh', 'batch_size': 200, 'hidden_layer_sizes': 300}</td>\n",
       "      <td>0.302071</td>\n",
       "      <td>0.298718</td>\n",
       "      <td>0.0</td>\n",
       "    </tr>\n",
       "    <tr>\n",
       "      <th>7</th>\n",
       "      <td>{'activation': 'tanh', 'batch_size': 100, 'hidden_layer_sizes': 300}</td>\n",
       "      <td>0.301352</td>\n",
       "      <td>0.298516</td>\n",
       "      <td>0.0</td>\n",
       "    </tr>\n",
       "    <tr>\n",
       "      <th>4</th>\n",
       "      <td>{'activation': 'logistic', 'batch_size': 200, 'hidden_layer_sizes': 300}</td>\n",
       "      <td>0.299840</td>\n",
       "      <td>0.297750</td>\n",
       "      <td>0.0</td>\n",
       "    </tr>\n",
       "    <tr>\n",
       "      <th>3</th>\n",
       "      <td>{'activation': 'logistic', 'batch_size': 200, 'hidden_layer_sizes': 200}</td>\n",
       "      <td>0.295761</td>\n",
       "      <td>0.293516</td>\n",
       "      <td>0.0</td>\n",
       "    </tr>\n",
       "  </tbody>\n",
       "</table>\n",
       "</div>"
      ],
      "text/plain": [
       "                                                                             params  \\\n",
       "11      {'activation': 'tanh', 'batch_size': 200, 'hidden_layer_sizes': (100, 100)}   \n",
       "8       {'activation': 'tanh', 'batch_size': 100, 'hidden_layer_sizes': (100, 100)}   \n",
       "2   {'activation': 'logistic', 'batch_size': 100, 'hidden_layer_sizes': (100, 100)}   \n",
       "0          {'activation': 'logistic', 'batch_size': 100, 'hidden_layer_sizes': 200}   \n",
       "9              {'activation': 'tanh', 'batch_size': 200, 'hidden_layer_sizes': 200}   \n",
       "6              {'activation': 'tanh', 'batch_size': 100, 'hidden_layer_sizes': 200}   \n",
       "5   {'activation': 'logistic', 'batch_size': 200, 'hidden_layer_sizes': (100, 100)}   \n",
       "1          {'activation': 'logistic', 'batch_size': 100, 'hidden_layer_sizes': 300}   \n",
       "10             {'activation': 'tanh', 'batch_size': 200, 'hidden_layer_sizes': 300}   \n",
       "7              {'activation': 'tanh', 'batch_size': 100, 'hidden_layer_sizes': 300}   \n",
       "4          {'activation': 'logistic', 'batch_size': 200, 'hidden_layer_sizes': 300}   \n",
       "3          {'activation': 'logistic', 'batch_size': 200, 'hidden_layer_sizes': 200}   \n",
       "\n",
       "    mean_train_score  mean_test_score  delta  \n",
       "11          0.309161         0.305512    0.0  \n",
       "8           0.310061         0.305089    0.0  \n",
       "2           0.304477         0.302024    0.0  \n",
       "0           0.302145         0.300351    0.0  \n",
       "9           0.302515         0.300351    0.0  \n",
       "6           0.302589         0.299786    0.0  \n",
       "5           0.300915         0.299665    0.0  \n",
       "1           0.301540         0.299484    0.0  \n",
       "10          0.302071         0.298718    0.0  \n",
       "7           0.301352         0.298516    0.0  \n",
       "4           0.299840         0.297750    0.0  \n",
       "3           0.295761         0.293516    0.0  "
      ]
     },
     "execution_count": 74,
     "metadata": {},
     "output_type": "execute_result"
    }
   ],
   "source": [
    "res_df = pd.DataFrame(gs.cv_results_)\n",
    "score_df = res_df[[\"params\", \"mean_train_score\", \"mean_test_score\"]].assign(\n",
    "    delta = res_df[\"mean_train_score\"] - res_df[\"mean_train_score\"]\n",
    ")\n",
    "pd.set_option('max_colwidth', 120)\n",
    "score_df.sort_values('mean_test_score', ascending=False)"
   ]
  },
  {
   "cell_type": "markdown",
   "metadata": {},
   "source": [
    "Изменения гиперпараметров модели не оказывают какого-либо знаичмого влияния на качсетво модели. Помимо опробованных здесь моделей, были также опробованы множество других алгоритмов МО разных типов с разными опитмизаторами. Все они упираются в показатель accuracy 0.3. Такое качество лучше случайного угадывания, но почти не отличается от константного алгоритма (назначение метки мажоритарного класса). Очевидно, такое поведение может быть связано с сильным дисбалансом классов или застреванием алгоритмов оптимизации в локальных минимумах. При этом ни исключение мажоритарного класса, ни усложнение алгоритмов не уменьшают степень недообученности моделей"
   ]
  },
  {
   "cell_type": "code",
   "execution_count": 75,
   "metadata": {},
   "outputs": [
    {
     "data": {
      "text/plain": [
       "0.30586243044915734"
      ]
     },
     "execution_count": 75,
     "metadata": {},
     "output_type": "execute_result"
    }
   ],
   "source": [
    "# Обучение конечной модели и проверка качества на отложенной выборке\n",
    "\n",
    "opt_params = score_df['params'][11]\n",
    "opt_mlp = MLPClassifier(**opt_params, random_state=RANDOM_STATE, early_stopping=True, shuffle=True)\n",
    "opt_mlp.fit(X_train, Y_train)\n",
    "\n",
    "accuracy_score(Y_test, opt_mlp.predict(X_test))"
   ]
  },
  {
   "cell_type": "code",
   "execution_count": 90,
   "metadata": {},
   "outputs": [
    {
     "data": {
      "text/html": [
       "<div>\n",
       "<style scoped>\n",
       "    .dataframe tbody tr th:only-of-type {\n",
       "        vertical-align: middle;\n",
       "    }\n",
       "\n",
       "    .dataframe tbody tr th {\n",
       "        vertical-align: top;\n",
       "    }\n",
       "\n",
       "    .dataframe thead th {\n",
       "        text-align: right;\n",
       "    }\n",
       "</style>\n",
       "<table border=\"1\" class=\"dataframe\">\n",
       "  <thead>\n",
       "    <tr style=\"text-align: right;\">\n",
       "      <th></th>\n",
       "      <th>hash_inn</th>\n",
       "      <th>y</th>\n",
       "    </tr>\n",
       "  </thead>\n",
       "  <tbody>\n",
       "    <tr>\n",
       "      <th>0</th>\n",
       "      <td>0</td>\n",
       "      <td>52</td>\n",
       "    </tr>\n",
       "    <tr>\n",
       "      <th>1</th>\n",
       "      <td>2</td>\n",
       "      <td>12</td>\n",
       "    </tr>\n",
       "    <tr>\n",
       "      <th>7</th>\n",
       "      <td>19</td>\n",
       "      <td>12</td>\n",
       "    </tr>\n",
       "    <tr>\n",
       "      <th>15</th>\n",
       "      <td>43</td>\n",
       "      <td>22</td>\n",
       "    </tr>\n",
       "    <tr>\n",
       "      <th>21</th>\n",
       "      <td>60</td>\n",
       "      <td>14</td>\n",
       "    </tr>\n",
       "    <tr>\n",
       "      <th>...</th>\n",
       "      <td>...</td>\n",
       "      <td>...</td>\n",
       "    </tr>\n",
       "    <tr>\n",
       "      <th>92211</th>\n",
       "      <td>260474</td>\n",
       "      <td>12</td>\n",
       "    </tr>\n",
       "    <tr>\n",
       "      <th>92212</th>\n",
       "      <td>260475</td>\n",
       "      <td>12</td>\n",
       "    </tr>\n",
       "    <tr>\n",
       "      <th>92213</th>\n",
       "      <td>260476</td>\n",
       "      <td>12</td>\n",
       "    </tr>\n",
       "    <tr>\n",
       "      <th>92214</th>\n",
       "      <td>260483</td>\n",
       "      <td>12</td>\n",
       "    </tr>\n",
       "    <tr>\n",
       "      <th>92215</th>\n",
       "      <td>260484</td>\n",
       "      <td>12</td>\n",
       "    </tr>\n",
       "  </tbody>\n",
       "</table>\n",
       "<p>30227 rows × 2 columns</p>\n",
       "</div>"
      ],
      "text/plain": [
       "       hash_inn   y\n",
       "0             0  52\n",
       "1             2  12\n",
       "7            19  12\n",
       "15           43  22\n",
       "21           60  14\n",
       "...         ...  ..\n",
       "92211    260474  12\n",
       "92212    260475  12\n",
       "92213    260476  12\n",
       "92214    260483  12\n",
       "92215    260484  12\n",
       "\n",
       "[30227 rows x 2 columns]"
      ]
     },
     "execution_count": 90,
     "metadata": {},
     "output_type": "execute_result"
    }
   ],
   "source": [
    "# Предсказание неизвестных кодов ОКВЭД\n",
    "\n",
    "X_pred = preproc.preprocess_for_predict(for_predict_df)\n",
    "Y_pred = opt_mlp.predict(X_pred)\n",
    "\n",
    "pred_df = pd.DataFrame({'hash_inn':for_predict_df['hash_inn'], 'y': Y_pred})\n",
    "pred_df"
   ]
  },
  {
   "cell_type": "code",
   "execution_count": 91,
   "metadata": {},
   "outputs": [],
   "source": [
    "# сохранение результатов в файл\n",
    "\n",
    "pred_df.to_csv('DmitriyAtamanov-25032024-SberIndustry.csv', sep=',', index=False)"
   ]
  }
 ],
 "metadata": {
  "kernelspec": {
   "display_name": "Python 3",
   "language": "python",
   "name": "python3"
  },
  "language_info": {
   "codemirror_mode": {
    "name": "ipython",
    "version": 3
   },
   "file_extension": ".py",
   "mimetype": "text/x-python",
   "name": "python",
   "nbconvert_exporter": "python",
   "pygments_lexer": "ipython3",
   "version": "3.11.3"
  }
 },
 "nbformat": 4,
 "nbformat_minor": 2
}
